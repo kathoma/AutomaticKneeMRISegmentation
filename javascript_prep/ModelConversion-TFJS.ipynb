{
 "cells": [
  {
   "cell_type": "code",
   "execution_count": 1,
   "metadata": {},
   "outputs": [
    {
     "name": "stderr",
     "output_type": "stream",
     "text": [
      "Using TensorFlow backend.\n"
     ]
    }
   ],
   "source": [
    "import numpy as np\n",
    "import pydicom\n",
    "import os\n",
    "import nibabel as nib\n",
    "import pandas as pd\n",
    "import json\n",
    "import argparse\n",
    "import pickle\n",
    "import time\n",
    "\n",
    "from calculate_t2 import *\n",
    "from segmentation_refinement import *\n",
    "from projection import *\n",
    "from utils import whiten_img\n",
    "from models import *\n",
    "from cluster_utils import strip_empty_lines\n",
    "\n",
    "from inference_utils import get_model"
   ]
  },
  {
   "cell_type": "code",
   "execution_count": 2,
   "metadata": {},
   "outputs": [
    {
     "name": "stderr",
     "output_type": "stream",
     "text": [
      "/Users/kevin/OneDrive/PhD/Mobilize/MRI_Segmentation/AutomaticKneeMRISegmentation/models.py:97: UserWarning: Update your `Conv2DTranspose` call to the Keras 2 API: `Conv2DTranspose(512, (3, 3), padding=\"same\", strides=(2, 2))`\n",
      "  output_shape=deconv_shape)(conv),\n",
      "/Users/kevin/OneDrive/PhD/Mobilize/MRI_Segmentation/AutomaticKneeMRISegmentation/models.py:97: UserWarning: Update your `Conv2DTranspose` call to the Keras 2 API: `Conv2DTranspose(256, (3, 3), padding=\"same\", strides=(2, 2))`\n",
      "  output_shape=deconv_shape)(conv),\n",
      "/Users/kevin/OneDrive/PhD/Mobilize/MRI_Segmentation/AutomaticKneeMRISegmentation/models.py:97: UserWarning: Update your `Conv2DTranspose` call to the Keras 2 API: `Conv2DTranspose(128, (3, 3), padding=\"same\", strides=(2, 2))`\n",
      "  output_shape=deconv_shape)(conv),\n",
      "/Users/kevin/OneDrive/PhD/Mobilize/MRI_Segmentation/AutomaticKneeMRISegmentation/models.py:97: UserWarning: Update your `Conv2DTranspose` call to the Keras 2 API: `Conv2DTranspose(64, (3, 3), padding=\"same\", strides=(2, 2))`\n",
      "  output_shape=deconv_shape)(conv),\n",
      "/Users/kevin/OneDrive/PhD/Mobilize/MRI_Segmentation/AutomaticKneeMRISegmentation/models.py:97: UserWarning: Update your `Conv2DTranspose` call to the Keras 2 API: `Conv2DTranspose(32, (3, 3), padding=\"same\", strides=(2, 2))`\n",
      "  output_shape=deconv_shape)(conv),\n"
     ]
    }
   ],
   "source": [
    "# Load the weights into the architecture\n",
    "model = get_model('../model_weights/model_weights_quartileNormalization_echoAug.h5')"
   ]
  },
  {
   "cell_type": "code",
   "execution_count": 3,
   "metadata": {},
   "outputs": [],
   "source": [
    "# Save the weights and architecture into a single file that can later be converted to javascript form\n",
    "model.save('../model_weights/model_architecture_and_weights.h5')"
   ]
  },
  {
   "cell_type": "code",
   "execution_count": null,
   "metadata": {},
   "outputs": [],
   "source": []
  }
 ],
 "metadata": {
  "kernelspec": {
   "display_name": "Python 3",
   "language": "python",
   "name": "python3"
  },
  "language_info": {
   "codemirror_mode": {
    "name": "ipython",
    "version": 3
   },
   "file_extension": ".py",
   "mimetype": "text/x-python",
   "name": "python",
   "nbconvert_exporter": "python",
   "pygments_lexer": "ipython3",
   "version": "3.6.13"
  }
 },
 "nbformat": 4,
 "nbformat_minor": 4
}
