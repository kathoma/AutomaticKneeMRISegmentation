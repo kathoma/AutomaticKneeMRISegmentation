{
 "cells": [
  {
   "cell_type": "code",
   "execution_count": 1,
   "metadata": {},
   "outputs": [
    {
     "name": "stderr",
     "output_type": "stream",
     "text": [
      "Using TensorFlow backend.\n"
     ]
    }
   ],
   "source": [
    "from __future__ import print_function, division\n",
    "import sys\n",
    "sys.path.insert(0, 'lib')\n",
    "import numpy as np\n",
    "import random\n",
    "import pydicom\n",
    "import os\n",
    "import matplotlib.pyplot as plt\n",
    "import pickle\n",
    "import math\n",
    "import pydicom\n",
    "from shutil import copyfile\n",
    "import nibabel as nib\n",
    "import scipy.ndimage as ndimage\n",
    "from scipy.stats import pearsonr, spearmanr\n",
    "\n",
    "from utils import make_giant_mat, make_dictionary, make_echo_dict\n",
    "from difference_map_utils import make_difference\n",
    "from cluster_utils import threshold_diffmaps, strip_empty_lines, resize\n",
    "from lesion_utils import *\n",
    "from inference_utils import run_inference\n",
    "from make_inference_csv import *\n",
    "from compare_segmentations import get_dice_scores, get_jaccard_indices, compare_segmentation_masks, compare_region_means, compare_region_changes\n",
    "from loss_functions import coefficient_of_variation\n",
    "from figure_utils import plot_mean_val_comparisons\n"
   ]
  },
  {
   "cell_type": "markdown",
   "metadata": {},
   "source": [
    "# Specify which subjects you want to analyze using their OAI Patient ID"
   ]
  },
  {
   "cell_type": "code",
   "execution_count": 2,
   "metadata": {},
   "outputs": [
    {
     "name": "stdout",
     "output_type": "stream",
     "text": [
      "['9543086' '9123289' '9260036' '9435250' '9909311' '9518827' '9013634'\n",
      " '9245760' '9458093' '9405107' '9120358' '9279874' '9376146' '9529761']\n",
      "\n",
      "['9435250' '9013634' '9909311' '9279874' '9260036' '9543086' '9123289'\n",
      " '9518827' '9245760' '9458093' '9405107' '9120358' '9376146' '9529761']\n",
      "[4 8 8 4 8 4 8 8 4 8 8 8 8 8]\n"
     ]
    }
   ],
   "source": [
    "with open('/data/dominik_data/train_val_test/pid_train.pickle', 'rb') as f:    \n",
    "    pid_train = pickle.load(f)\n",
    "    \n",
    "with open('/data/dominik_data/train_val_test/pid_val.pickle', 'rb') as f:    \n",
    "    pid_val = pickle.load(f)\n",
    "      \n",
    "with open('/data/dominik_data/train_val_test/pid_test.pickle', 'rb') as f:    \n",
    "    pid_test = pickle.load(f)\n",
    "    \n",
    "# with open('/data/dominik_data/train_val_test/pid_test_expert2.pickle', 'rb') as f:\n",
    "#     pid_expert2 = pickle.load(f)\n",
    "    \n",
    "# with open('/data/dominik_data/train_val_test/pid_test_expert2_years.pickle', 'rb') as f:\n",
    "#     pid_expert2_yrs = pickle.load(f)\n",
    "\n",
    "with open('/data/dominik_data/train_val_test/pid_test_expert2_round2.pickle', 'rb') as f:\n",
    "    pid_expert2 = pickle.load(f)\n",
    "    \n",
    "with open('/data/dominik_data/train_val_test/pid_test_expert2_years_round2.pickle', 'rb') as f:\n",
    "    pid_expert2_yrs = pickle.load(f)\n",
    "\n",
    "print(pid_test)\n",
    "print()\n",
    "print(pid_expert2)\n",
    "print(pid_expert2_yrs)"
   ]
  },
  {
   "cell_type": "markdown",
   "metadata": {},
   "source": [
    "# Make Pandas Data Frame and CSV file to specify which image files you want to have analyzed\n"
   ]
  },
  {
   "cell_type": "code",
   "execution_count": 3,
   "metadata": {},
   "outputs": [],
   "source": [
    "predict_pd = make_expert_csv_all_years(pID=pid_test,img_dir='/data/kevin_data/images', dir_to_save='/data/kevin_data/predicted')\n",
    "\n",
    "expert1_pd = make_expert_csv_all_years(pID=pid_test, img_dir='/data/kevin_data/images',dir_to_save='/data/kevin_data/qmetric')\n",
    "\n",
    "# We only have segmentations for one timepoint for the subjects segmented by expert2 and these are nifti files\n",
    "expert2_pd = make_expert_csv_specific_years(pID=pid_expert2, \n",
    "                                            years=pid_expert2_yrs, \n",
    "                                            img_dir='/data/kevin_data/images', \n",
    "                                            dir_to_save='/data/kevin_data/expert2', \n",
    "                                            seg_provided=True, \n",
    "                                            seg_format = \"numpy\")\n",
    "\n",
    "predict_subset_pd = make_expert_csv_specific_years(pID=pid_expert2, \n",
    "                                            years=pid_expert2_yrs, \n",
    "                                            img_dir='/data/kevin_data/images', \n",
    "                                            dir_to_save='/data/kevin_data/predicted', \n",
    "                                            seg_provided=True, \n",
    "                                            seg_format = \"numpy\",\n",
    "                                            csv_filename = 'file_paths_subset.csv')\n",
    "\n",
    "expert1_subset_pd = make_expert_csv_specific_years(pID=pid_expert2, \n",
    "                                            years=pid_expert2_yrs, \n",
    "                                            img_dir='/data/kevin_data/images', \n",
    "                                            dir_to_save='/data/kevin_data/qmetric', \n",
    "                                            seg_provided=True, \n",
    "                                            seg_format = \"numpy\",\n",
    "                                            csv_filename = 'file_paths_subset.csv')\n",
    "# for f in np.array(expert2_pd.image_dir):\n",
    "#     print(f)\n"
   ]
  },
  {
   "cell_type": "code",
   "execution_count": 4,
   "metadata": {},
   "outputs": [
    {
     "data": {
      "text/plain": [
       "'/data/kevin_data/predicted/segmentations/9543086_4.npy'"
      ]
     },
     "execution_count": 4,
     "metadata": {},
     "output_type": "execute_result"
    }
   ],
   "source": [
    "list(predict_pd.seg_path)[0]\n"
   ]
  },
  {
   "cell_type": "markdown",
   "metadata": {},
   "source": [
    "# Generate Segmentations and T2 maps for your MESE images\n",
    "- If you provide a value for the 'expert_pd' argument, it will use your provided segmentations\n",
    "\n",
    "- If you provide a value for the 'to_segment_pd' argument, it will automatically segment the cartilage and then use that auto-segmentation to generate the T2 maps. By default, this uses our trained model, but model weights can be changed via the 'model_weights_file' argument and the model can be changed by altering the inference.get_model function in inference.py. \n",
    "\n",
    "- In addition to generating 3D T2 maps, it also provides the segmentations used to generate those T2 maps as 3D numpy arrays and json files that summarize the avg T2 value in each anatomical region of the cartilage plate\n",
    "\n",
    "- These results are all saved in the destinations specied in your Pandas dataframe (expert_pd or to_segment_pd) that you made in the previous step"
   ]
  },
  {
   "cell_type": "code",
   "execution_count": null,
   "metadata": {
    "scrolled": true
   },
   "outputs": [
    {
     "name": "stdout",
     "output_type": "stream",
     "text": [
      "-----------------------------------------------------------------------------------\n",
      "Automatically segmenting images and using those segmentations to analyze MESE MRIs\n",
      "-----------------------------------------------------------------------------------\n",
      "\n",
      "/data/kevin_data/images/YR4/9543086/T2\n"
     ]
    },
    {
     "name": "stderr",
     "output_type": "stream",
     "text": [
      "/home/shared/anaconda3/envs/python3/lib/python3.7/site-packages/scipy/optimize/minpack.py:808: OptimizeWarning: Covariance of the parameters could not be estimated\n",
      "  category=OptimizeWarning)\n"
     ]
    },
    {
     "name": "stdout",
     "output_type": "stream",
     "text": [
      "Duration: 8.00996732711792 38.38001871109009 46.38998603820801\n"
     ]
    },
    {
     "name": "stderr",
     "output_type": "stream",
     "text": [
      "/home/shared/anaconda3/envs/python3/lib/python3.7/site-packages/numpy/core/fromnumeric.py:3257: RuntimeWarning: Mean of empty slice.\n",
      "  out=out, **kwargs)\n",
      "/home/shared/anaconda3/envs/python3/lib/python3.7/site-packages/numpy/core/_methods.py:161: RuntimeWarning: invalid value encountered in double_scalars\n",
      "  ret = ret.dtype.type(ret / rcount)\n"
     ]
    },
    {
     "name": "stdout",
     "output_type": "stream",
     "text": [
      "/data/kevin_data/images/YR8/9543086/T2\n",
      "Duration: 5.336361646652222 30.761003971099854 36.097365617752075\n",
      "/data/kevin_data/images/YR4/9123289/T2\n",
      "Duration: 6.15007209777832 32.69177317619324 38.84184527397156\n",
      "/data/kevin_data/images/YR8/9123289/T2\n",
      "Duration: 6.141577482223511 25.027135848999023 31.168713331222534\n",
      "/data/kevin_data/images/YR4/9260036/T2\n",
      "Duration: 8.051153898239136 39.97786855697632 48.029022455215454\n",
      "/data/kevin_data/images/YR8/9260036/T2\n",
      "Duration: 5.238565444946289 29.806280374526978 35.04484581947327\n",
      "/data/kevin_data/images/YR4/9435250/T2\n",
      "Duration: 6.163176536560059 33.19331240653992 39.356488943099976\n",
      "/data/kevin_data/images/YR8/9435250/T2\n",
      "Duration: 6.193947792053223 26.398370265960693 32.592318058013916\n",
      "/data/kevin_data/images/YR4/9909311/T2\n",
      "Duration: 6.785679817199707 37.21684646606445 44.00252628326416\n",
      "/data/kevin_data/images/YR8/9909311/T2\n",
      "Duration: 5.249181509017944 31.08030939102173 36.32949090003967\n",
      "/data/kevin_data/images/YR4/9518827/T2\n",
      "Duration: 6.7821900844573975 49.94965171813965 56.731841802597046\n",
      "/data/kevin_data/images/YR8/9518827/T2\n",
      "Duration: 5.255971670150757 40.730300426483154 45.98627209663391\n",
      "/data/kevin_data/images/YR4/9013634/T2\n",
      "Duration: 6.107424020767212 40.139997243881226 46.24742126464844\n",
      "/data/kevin_data/images/YR8/9013634/T2\n",
      "Duration: 5.246930122375488 29.425151348114014 34.6720814704895\n",
      "/data/kevin_data/images/YR4/9245760/T2\n",
      "Duration: 6.127556562423706 38.17085337638855 44.298409938812256\n",
      "/data/kevin_data/images/YR8/9245760/T2\n",
      "Duration: 6.146178960800171 35.68613910675049 41.83231806755066\n",
      "/data/kevin_data/images/YR4/9458093/T2\n",
      "Duration: 7.483946084976196 26.213841199874878 33.697787284851074\n",
      "/data/kevin_data/images/YR8/9458093/T2\n",
      "Duration: 5.232555627822876 39.63588833808899 44.868443965911865\n",
      "/data/kevin_data/images/YR4/9405107/T2\n",
      "Duration: 6.379887580871582 44.35549020767212 50.7353777885437\n",
      "/data/kevin_data/images/YR8/9405107/T2\n",
      "Duration: 6.849233865737915 39.316537857055664 46.16577172279358\n",
      "/data/kevin_data/images/YR4/9120358/T2\n",
      "Duration: 6.1716389656066895 37.82938051223755 44.00101947784424\n",
      "/data/kevin_data/images/YR8/9120358/T2\n",
      "Duration: 6.139678955078125 33.919997692108154 40.05967664718628\n",
      "/data/kevin_data/images/YR4/9279874/T2\n",
      "Duration: 7.466264963150024 24.56560516357422 32.03187012672424\n",
      "/data/kevin_data/images/YR8/9279874/T2\n",
      "Duration: 5.2265942096710205 38.48790693283081 43.71450114250183\n",
      "/data/kevin_data/images/YR4/9376146/T2\n",
      "Duration: 6.145784854888916 37.12377595901489 43.26956081390381\n",
      "/data/kevin_data/images/YR8/9376146/T2\n"
     ]
    }
   ],
   "source": [
    "run_inference(to_segment_pd = predict_pd, model_weight_file = './model_weights/model_weights_quartileNormalization_echoAug.h5')\n",
    "# run_inference(expert_pd = predict_pd)\n",
    "\n",
    "# run_inference(expert_pd = expert1_pd)\n",
    "              \n",
    "# run_inference(expert_pd = expert2_pd)\n",
    "\n",
    "# We don't need to generate additional segmentations for the 'predict_subset_pd' or 'expert1_subset_pd' \n",
    "# because they are already generated as part of the 'predict_pd' and 'expert1_pd'"
   ]
  },
  {
   "cell_type": "code",
   "execution_count": 7,
   "metadata": {},
   "outputs": [],
   "source": [
    "# Flip the expert segmentations if you haven't already\n",
    "# for file in os.listdir('/data/kevin_data/expert2/segmentations'):\n",
    "#     if file[-4:]=='.npy':\n",
    "#         temp = np.load(os.path.join('/data/kevin_data/expert2/segmentations',file))\n",
    "#         temp = np.flip(temp, axis = 0)\n",
    "#         np.save(os.path.join('/data/kevin_data/expert2/segmentations',file),temp)"
   ]
  },
  {
   "cell_type": "markdown",
   "metadata": {},
   "source": [
    "# Use cluster analysis to identify cartilage lesions developing over time\n",
    "<img src=\"ClusterAnalysisExample.png\" alt=\"Drawing\" style=\"width: 200px;\"/>\n",
    "\n",
    "Find the percentage of the femoral cartilage surface area that is affected by cartilage lesions. In this context, a lesion is a localized area of cartilage that has increased in T2 value over time more than the surrounding area. You can adjust the settings in calculate_group_lesion_area() to make the criteria for lesions more or less strict based on how large a cluster must be and how much the T2 value must increase. \n",
    "\n",
    "Lesions are identified using methods adapted from the following manuscript:\n",
    "\n",
    "Monu, Uchechukwuka D., et al. \"Cluster analysis of quantitative MRI T2 and T1ρ relaxation times of cartilage identifies differences between healthy and ACL-injured individuals at 3T.\" Osteoarthritis and cartilage 25.4 (2017): 513-520.\n",
    "\n"
   ]
  },
  {
   "cell_type": "code",
   "execution_count": 7,
   "metadata": {
    "scrolled": true
   },
   "outputs": [
    {
     "name": "stdout",
     "output_type": "stream",
     "text": [
      "\n",
      "--------------------\n"
     ]
    }
   ],
   "source": [
    "paths = np.array(predict_pd.t2_projected_path)\n",
    "paths = [i + '.pickle' for i in paths]\n",
    "source1_time1 = np.sort([i for i in paths if i[-12]=='4'])\n",
    "source1_time2 = np.sort([i for i in paths if i[-12]=='8'])\n",
    "\n",
    "paths = np.array(expert1_pd.t2_projected_path)\n",
    "paths = [i + '.pickle' for i in paths]\n",
    "source2_time1 = np.sort([i for i in paths if i[-12]=='4'])\n",
    "source2_time2 = np.sort([i for i in paths if i[-12]=='8'])\n",
    "\n",
    "percentLesion_expert1 = calculate_group_lesion_area(timepoint1=source2_time1,\n",
    "                                                     timepoint2=source2_time2, \n",
    "#                                                      value_threshold = 9,\n",
    "                                                     sigma_multiple = 1,\n",
    "#                                                      area_value_threshold = 12.4,\n",
    "                                                     area_fraction_threshold = .01, \n",
    "                                                     area_percentile_threshold = None,\n",
    "                                                     display=False,\n",
    "                                                     save_path_list=None)\n",
    "\n",
    "print()\n",
    "print(\"--\"*10)\n",
    "\n",
    "\n",
    "percentLesion_predict = calculate_group_lesion_area(timepoint1=source1_time1,\n",
    "                                                     timepoint2=source1_time2, \n",
    "#                                                      value_threshold = 9,\n",
    "                                                     sigma_multiple = 1,\n",
    "#                                                      area_value_threshold = 12.4,\n",
    "                                                     area_fraction_threshold = .01, \n",
    "                                                     area_percentile_threshold = None,\n",
    "                                                     display=False,\n",
    "                                                     save_path_list = None)\n",
    "\n",
    "    \n",
    "\n",
    "# SAVE THE RESIZED PROJECTIONS AND LESION MAPS!\n",
    "\n",
    "\n"
   ]
  },
  {
   "cell_type": "markdown",
   "metadata": {},
   "source": [
    "# Compare two segmentation approaches (e.g. manual vs automated)\n",
    "- Quantify how closely the two segmentations agree with one another using Dice Score and Jaccard Index\n",
    "- Quantify how closely the downstream T2 measurements correlate for each region using Pearson correlation\n",
    "- Quantify the mean absolute difference in T2 measurements for each region\n",
    "- Quantify the agreement in the percentage of the cartilage plate that has lesion via Pearson correlation\n",
    "- Quantify the agreement in the lesions identified using Dice Score and Jaccard Index"
   ]
  },
  {
   "cell_type": "markdown",
   "metadata": {},
   "source": [
    "### Quantify how closely the two segmentations agree with one another using Dice Score and Jaccard Index\n"
   ]
  },
  {
   "cell_type": "code",
   "execution_count": 8,
   "metadata": {
    "scrolled": false
   },
   "outputs": [
    {
     "name": "stdout",
     "output_type": "stream",
     "text": [
      "Qmetric vs Model: Full test set\n",
      "0.8514 +/- 0.0287\n"
     ]
    },
    {
     "data": {
      "image/png": "[encoded data removed]",
      "text/plain": [
       "<Figure size 432x288 with 1 Axes>"
      ]
     },
     "metadata": {
      "needs_background": "light"
     },
     "output_type": "display_data"
    },
    {
     "name": "stdout",
     "output_type": "stream",
     "text": [
      "0.7423 +/- 0.0431\n"
     ]
    },
    {
     "data": {
      "image/png": "[encoded data removed]",
      "text/plain": [
       "<Figure size 432x288 with 1 Axes>"
      ]
     },
     "metadata": {
      "needs_background": "light"
     },
     "output_type": "display_data"
    },
    {
     "name": "stdout",
     "output_type": "stream",
     "text": [
      "----------------------------------------------------------------------------------------------------\n",
      "\n",
      "Qmetric vs Model: Test subset\n",
      "0.8445 +/- 0.0307\n"
     ]
    },
    {
     "data": {
      "image/png": "[encoded data removed]",
      "text/plain": [
       "<Figure size 432x288 with 1 Axes>"
      ]
     },
     "metadata": {
      "needs_background": "light"
     },
     "output_type": "display_data"
    },
    {
     "name": "stdout",
     "output_type": "stream",
     "text": [
      "0.7321 +/- 0.0459\n"
     ]
    },
    {
     "data": {
      "image/png": "[encoded data removed]",
      "text/plain": [
       "<Figure size 432x288 with 1 Axes>"
      ]
     },
     "metadata": {
      "needs_background": "light"
     },
     "output_type": "display_data"
    },
    {
     "name": "stdout",
     "output_type": "stream",
     "text": [
      "----------------------------------------------------------------------------------------------------\n",
      "Qmetric vs Expert 2: Test subset\n",
      "0.7413 +/- 0.0298\n"
     ]
    },
    {
     "data": {
      "image/png": "[encoded data removed]",
      "text/plain": [
       "<Figure size 432x288 with 1 Axes>"
      ]
     },
     "metadata": {
      "needs_background": "light"
     },
     "output_type": "display_data"
    },
    {
     "name": "stdout",
     "output_type": "stream",
     "text": [
      "0.5898 +/- 0.0372\n"
     ]
    },
    {
     "data": {
      "image/png": "[encoded data removed]",
      "text/plain": [
       "<Figure size 432x288 with 1 Axes>"
      ]
     },
     "metadata": {
      "needs_background": "light"
     },
     "output_type": "display_data"
    },
    {
     "name": "stdout",
     "output_type": "stream",
     "text": [
      "----------------------------------------------------------------------------------------------------\n",
      "Model vs Expert 2: Test subset\n",
      "0.7533 +/- 0.0274\n"
     ]
    },
    {
     "data": {
      "image/png": "[encoded data removed]",
      "text/plain": [
       "<Figure size 432x288 with 1 Axes>"
      ]
     },
     "metadata": {
      "needs_background": "light"
     },
     "output_type": "display_data"
    },
    {
     "name": "stdout",
     "output_type": "stream",
     "text": [
      "0.605 +/- 0.0349\n"
     ]
    },
    {
     "data": {
      "image/png": "[encoded data removed]",
      "text/plain": [
       "<Figure size 432x288 with 1 Axes>"
      ]
     },
     "metadata": {
      "needs_background": "light"
     },
     "output_type": "display_data"
    }
   ],
   "source": [
    "print(\"Qmetric vs Model: Full test set\")\n",
    "dice_expert1_model, jaccard_expert1_model = compare_segmentation_masks(expert1_pd, \n",
    "                                                                       predict_pd, \n",
    "                                                                       display = True)\n",
    "\n",
    "print(\"-\"*100)\n",
    "print()\n",
    "print(\"Qmetric vs Model: Test subset\")\n",
    "dice_expert1_model_subset, jaccard_expert1_model_subset = compare_segmentation_masks(expert1_subset_pd, \n",
    "                                                                                     predict_subset_pd, \n",
    "                                                                                     display = True)\n",
    "\n",
    "print(\"-\"*100)\n",
    "print(\"Qmetric vs Expert 2: Test subset\")\n",
    "\n",
    "dice_expert1_expert2, jaccard_expert1_expert2 = compare_segmentation_masks(expert1_subset_pd, \n",
    "                                                                           expert2_pd, \n",
    "                                                                           display = True)\n",
    "\n",
    "print(\"-\"*100)\n",
    "print(\"Model vs Expert 2: Test subset\")\n",
    "\n",
    "dice_expert1_expert2, jaccard_expert1_expert2 = compare_segmentation_masks(predict_subset_pd, \n",
    "                                                                           expert2_pd, \n",
    "                                                                           display = True)\n"
   ]
  },
  {
   "cell_type": "markdown",
   "metadata": {},
   "source": [
    "### See how well they agree in terms of the average T2 value in each cartilage region of each image"
   ]
  },
  {
   "cell_type": "code",
   "execution_count": 9,
   "metadata": {
    "scrolled": false
   },
   "outputs": [
    {
     "data": {
      "image/png": "[encoded data removed]",
      "text/plain": [
       "<Figure size 2520x648 with 1 Axes>"
      ]
     },
     "metadata": {
      "needs_background": "light"
     },
     "output_type": "display_data"
    },
    {
     "name": "stdout",
     "output_type": "stream",
     "text": [
      "CORRELATION: EXPERT1 vs Model (SUBSET)\n",
      "all SpearmanrResult(correlation=0.9868131868131869, pvalue=7.379504109330886e-11)\n",
      "superficial SpearmanrResult(correlation=0.9076923076923077, pvalue=7.3017039968523426e-06)\n",
      "deep SpearmanrResult(correlation=0.956043956043956, pvalue=9.469782144566512e-08)\n",
      "SLA SpearmanrResult(correlation=0.6967032967032967, pvalue=0.005628677002967549)\n",
      "SLC SpearmanrResult(correlation=0.9428571428571428, pvalue=4.4409928509609024e-07)\n",
      "SLP SpearmanrResult(correlation=0.7054945054945055, pvalue=0.004819557979048519)\n",
      "SMA SpearmanrResult(correlation=0.7230769230769231, pvalue=0.003475294618094306)\n",
      "SMC SpearmanrResult(correlation=0.9340659340659341, pvalue=1.0279787693084366e-06)\n",
      "SMP SpearmanrResult(correlation=0.8769230769230769, pvalue=3.829698105449934e-05)\n",
      "DLA SpearmanrResult(correlation=0.9032967032967033, pvalue=9.558659401055547e-06)\n",
      "DLC SpearmanrResult(correlation=0.9164835164835166, pvalue=4.084158819686066e-06)\n",
      "DLP SpearmanrResult(correlation=0.7362637362637363, pvalue=0.0026764473596131945)\n",
      "DMA SpearmanrResult(correlation=0.8945054945054945, pvalue=1.579830848680049e-05)\n",
      "DMC SpearmanrResult(correlation=0.8901098901098902, pvalue=1.998540422478126e-05)\n",
      "DMP SpearmanrResult(correlation=0.8065934065934066, pvalue=0.0004911128961691055)\n",
      "LA SpearmanrResult(correlation=0.7846153846153847, pvalue=0.0008900739749078555)\n",
      "LC SpearmanrResult(correlation=0.9648351648351648, pvalue=2.5304057544450237e-08)\n",
      "LP SpearmanrResult(correlation=0.7934065934065934, pvalue=0.0007075341356182061)\n",
      "MA SpearmanrResult(correlation=0.7934065934065934, pvalue=0.0007075341356182061)\n",
      "MC SpearmanrResult(correlation=0.9384615384615385, pvalue=6.86120148176667e-07)\n",
      "MP SpearmanrResult(correlation=0.9428571428571428, pvalue=4.4409928509609024e-07)\n",
      "SL SpearmanrResult(correlation=0.8681318681318682, pvalue=5.6798189086915105e-05)\n",
      "DL SpearmanrResult(correlation=0.9472527472527472, pvalue=2.7738827125448025e-07)\n",
      "SM SpearmanrResult(correlation=0.8813186813186813, pvalue=3.109511008397839e-05)\n",
      "DM SpearmanrResult(correlation=0.8945054945054945, pvalue=1.579830848680049e-05)\n",
      "L SpearmanrResult(correlation=0.8109890109890111, pvalue=0.000432210064907679)\n",
      "M SpearmanrResult(correlation=0.9340659340659341, pvalue=1.0279787693084366e-06)\n",
      "\n",
      "ROI CORR MEAN: 0.8355311355311357\n",
      "\n",
      "\n",
      "Mean Abs Error: EXPERT1 vs Model (SUBSET\n",
      "all (0.40582171624502855, 0.3932223475814548, (0.22869412264440037, 0.6314195181087685))\n",
      "superficial (0.5825796349346218, 0.5228260754442047, (0.32118215978356895, 0.8732974881440162))\n",
      "deep (0.44482027964344084, 0.4042748693540087, (0.23766008286958462, 0.6517119176064415))\n",
      "SLA (1.8466177326507587, 1.9451056254450958, (0.9689947725819887, 2.910508667017315))\n",
      "SLC (1.2686476031955323, 1.340727474498737, (0.6715184686763502, 2.0000380097052637))\n",
      "SLP (1.057825008379751, 0.8692108073018585, (0.6097941017158474, 1.574368003496547))\n",
      "SMA (1.9120859462653057, 1.9753801396117938, (1.0058905646973604, 3.0640687340762147))\n",
      "SMC (0.9657617720811338, 0.6694701880724763, (0.6212147914536699, 1.3496523859613578))\n",
      "SMP (1.3514230549863038, 1.2496155261546056, (0.7293996374625632, 2.0202010716902943))\n",
      "DLA (1.3383161065703761, 1.8288613669613587, (0.5355056129033767, 2.366415253100426))\n",
      "DLC (1.6183744073898214, 0.9655307974765449, (1.1476838605342798, 2.126401956850798))\n",
      "DLP (1.1464938816707948, 1.171872473345211, (0.6140018030136046, 1.818222773656736))\n",
      "DMA (1.4922113035724018, 1.4707653532929117, (0.8105178533950385, 2.32912633497791))\n",
      "DMC (2.293562993270048, 1.426490976586707, (1.5850164850675976, 3.117594656735101))\n",
      "DMP (1.4765698302283699, 0.8688279814405427, (1.0129278462251292, 1.940366973347324))\n",
      "LA (1.4337736028077346, 1.867430232917879, (0.5479509861970878, 2.5698769359105538))\n",
      "LC (0.8082109224623935, 0.40887663034253685, (0.6100468279912878, 1.019405755807899))\n",
      "LP (0.9509705647380002, 0.7850486091576451, (0.5681989049115945, 1.3674839722347996))\n",
      "MA (1.46508328508174, 1.6142580416836139, (0.7234711623837261, 2.3616249880320175))\n",
      "MC (1.3376561969159861, 0.7582268624860053, (0.9844276822795452, 1.810400994223678))\n",
      "MP (0.9090859477330255, 0.6284392606994509, (0.5741983815525581, 1.234392004515507))\n",
      "SL (0.7154700250923932, 0.6134896711436086, (0.4284598728812935, 1.0354753648503294))\n",
      "DL (0.8592426406706127, 0.6425830054362571, (0.5264954472834117, 1.1915277400893562))\n",
      "SM (1.048350360816772, 0.8368111957944735, (0.623820615396903, 1.534324994640003))\n",
      "DM (1.0801634650693843, 0.7984744114260619, (0.6730106348785075, 1.5146529816539307))\n",
      "L (0.7012208754359988, 0.5352671743894755, (0.41668823948494216, 0.9832040978151332))\n",
      "M (0.7259372522936799, 0.6226927237584107, (0.4317232367759676, 1.058575681063494))\n",
      "\n",
      "ROI MAE MEAN: 1.4806574700217165\n",
      "\n",
      "\n",
      "\n",
      "Coefficient of Variation: EXPERT1 vs EXPERT2\n",
      "all 0.020254453507018357\n",
      "superficial 0.02228126098510795\n",
      "deep 0.030179158985683345\n",
      "SLA 0.05062154684022066\n",
      "SLC 0.0619126624964746\n",
      "SLP 0.022790449583386527\n",
      "SMA 0.03597365406563601\n",
      "SMC 0.039417268704505196\n",
      "SMP 0.04487527314058438\n",
      "DLA 0.0851566440091741\n",
      "DLC 0.07206950353658201\n",
      "DLP 0.0510719653816237\n",
      "DMA 0.06493409357533457\n",
      "DMC 0.06585592287005493\n",
      "DMP 0.05792815925343201\n",
      "LA 0.05594560101684436\n",
      "LC 0.044928469384098155\n",
      "LP 0.02567544711972516\n",
      "MA 0.04456397831504751\n",
      "MC 0.04573622474091445\n",
      "MP 0.04051256906957257\n",
      "SL 0.02957647702240436\n",
      "DL 0.06454718132949372\n",
      "SM 0.02995050545443575\n",
      "DM 0.050039279378603196\n",
      "L 0.03864788319508775\n",
      "M 0.03537615349278579\n",
      "\n",
      "Cohen's D: EXPERT1 vs EXPERT2\n",
      "all 0.06332329602403611\n",
      "superficial 0.33733967114595137\n",
      "deep -0.12033149198106174\n",
      "SLA -0.11670526811203558\n",
      "SLC 0.3956625519985617\n",
      "SLP 0.15171409843264946\n",
      "SMA 0.17668792096784872\n",
      "SMC 0.4180828579584333\n",
      "SMP 0.3903528240770532\n",
      "DLA -0.5292064576161337\n",
      "DLC -0.42223572721992886\n",
      "DLP -0.8370379987784659\n",
      "DMA 0.5244995968995863\n",
      "DMC 0.4814080397775453\n",
      "DMP 0.5150223577865976\n",
      "LA -0.4119807969103787\n",
      "LC -0.09082529397859852\n",
      "LP -0.46748364275277143\n",
      "MA 0.3617155529704625\n",
      "MC 0.5178257566196574\n",
      "MP 0.49090780726933814\n",
      "SL 0.1386998979998242\n",
      "DL -0.6522366628378933\n",
      "SM 0.42965528148430127\n",
      "DM 0.6671539810110753\n",
      "L -0.407240117619876\n",
      "M 0.5976513066568242\n"
     ]
    }
   ],
   "source": [
    "correlation_dict_e1_m, abs_diff_dict_e1_m, cv_e1_m, t_e1_m, cohen_e1_m = compare_region_means(list(expert1_pd.t2_region_json_path), \n",
    "                                                                            list(predict_pd.t2_region_json_path), \n",
    "                                                                            results_path=None,\n",
    "                                                                            correlation_method = 'spearman',\n",
    "                                                                            bland_altman = False)\n",
    "\n",
    "correlation_dict_e1_m_subset, abs_diff_dict_e1_m_subset, cv_e1_m_subset, t_e1_m_subset, cohen_e1_m_subset = compare_region_means(list(expert1_subset_pd.t2_region_json_path), \n",
    "                                                                                                list(predict_subset_pd.t2_region_json_path), \n",
    "                                                                                                results_path=None,\n",
    "                                                                                                correlation_method = 'spearman')\n",
    "\n",
    "correlation_dict_e1_e2, abs_diff_dict_e1_e2, cv_e1_e2, t_e1_e2, cohen_e1_e2 = compare_region_means(list(expert1_subset_pd.t2_region_json_path), \n",
    "                                                                            list(expert2_pd.t2_region_json_path), \n",
    "                                                                            results_path=None,\n",
    "                                                                            correlation_method = 'spearman')\n",
    "\n",
    "correlation_dict_e2_m, abs_diff_dict_e2_m, cv_e2_m, t_e2_m, _cohen_e1_e2 = compare_region_means(list(expert2_pd.t2_region_json_path), \n",
    "                                                                            list(predict_subset_pd.t2_region_json_path), \n",
    "                                                                            results_path=None,\n",
    "                                                                            correlation_method = 'spearman')\n",
    "\n",
    "plot_mean_val_comparisons(abs_diff_dict_e1_e2, \n",
    "                          abs_diff_dict_e1_m_subset, \n",
    "                          'Reader 2', \n",
    "                          'Model',\n",
    "                          error_bar='ci')\n",
    "\n",
    "# plot_mean_val_comparisons(abs_diff_dict_e1_e2, \n",
    "#                           abs_diff_dict_e1_m_subset, \n",
    "#                           'Reader 2', \n",
    "#                           'Model',\n",
    "#                           error_bar='ci')\n",
    "\n",
    "# plot_mean_val_comparisons(abs_diff_dict_e1_e2, \n",
    "#                           abs_diff_dict_e2_m, \n",
    "#                           'Reader 1', \n",
    "#                           'Model',\n",
    "#                           error_bar = 'ci')\n",
    "\n",
    "\n",
    "roi_list = np.array(['SLA', 'SLC', 'SLP', 'SMA', 'SMC', 'SMP', 'DLA', 'DLC', 'DLP', 'DMA', 'DMC', 'DMP'])\n",
    "print(\"CORRELATION: EXPERT1 vs Model (SUBSET)\")\n",
    "roi_corr_mean = 0\n",
    "for k,v in correlation_dict_e1_m_subset.items():\n",
    "    print(k, v)\n",
    "    if k in roi_list:\n",
    "        roi_corr_mean += v[0]\n",
    "roi_corr_mean = roi_corr_mean / len(roi_list)\n",
    "print()\n",
    "print(\"ROI CORR MEAN:\", roi_corr_mean)\n",
    "print()    \n",
    "print()\n",
    "\n",
    "print(\"Mean Abs Error: EXPERT1 vs Model (SUBSET\")\n",
    "roi_mae_mean = 0\n",
    "for k,v in abs_diff_dict_e1_m_subset.items():\n",
    "    print(k, v)\n",
    "    if k in roi_list:\n",
    "        roi_mae_mean += v[0]\n",
    "roi_mae_mean = roi_mae_mean / len(roi_list)\n",
    "print()\n",
    "print(\"ROI MAE MEAN:\", roi_mae_mean)\n",
    "print()    \n",
    "print()   \n",
    "print()\n",
    "print(\"Coefficient of Variation: EXPERT1 vs EXPERT2\")\n",
    "for k,v in cv_e1_e2.items():\n",
    "    print(k, v)\n",
    "    \n",
    "    \n",
    "    \n",
    "print()\n",
    "print(\"Cohen's D: EXPERT1 vs EXPERT2\")\n",
    "for k,v in cohen_e1_e2.items():\n",
    "    print(k, v)\n",
    "\n",
    "    "
   ]
  },
  {
   "cell_type": "markdown",
   "metadata": {},
   "source": [
    "### See how well they agree in terms of the average T2 change over time in each cartilage region of each image"
   ]
  },
  {
   "cell_type": "code",
   "execution_count": null,
   "metadata": {
    "scrolled": true
   },
   "outputs": [],
   "source": [
    "expert1_regions = list(expert1_pd.t2_region_json_path)\n",
    "model_regions = list(predict_pd.t2_region_json_path)\n",
    "\n",
    "\n",
    "source1_regions1 = [i for i in expert1_regions if i[-6]=='4']# and '9120358' not in i]\n",
    "source1_regions2 = [i for i in expert1_regions if i[-6]=='8']#and '9120358' not in i]\n",
    "source2_regions1 = [i for i in model_regions if i[-6]=='4']#and '9120358' not in i]\n",
    "source2_regions2 = [i for i in model_regions if i[-6]=='8']#and '9120358' not in i]\n",
    "\n",
    "if len(source1_regions1)==len(source1_regions2):\n",
    "    catch = compare_region_changes(source1_regions1,\n",
    "                                   source1_regions2,\n",
    "                                   source2_regions1,\n",
    "                                   source2_regions2, \n",
    "                                   results_path=None,\n",
    "                                   correlation_method = 'spearman',\n",
    "                                   bland_altman = True)  \n",
    "    \n",
    "    (change_correlation_dict, change_mean_abs_diff_dict, change_cv_dict, change_ttest_dict, change_dict, change_cohen) = catch\n",
    "    \n",
    "print(\"CORRELATION EXPERT 1 VS MODEL\")\n",
    "for k,v in change_correlation_dict.items():\n",
    "    print(k, v)\n",
    "    \n",
    "\n",
    "print()\n",
    "print(\"MEAN ABS DIFFERENCE EXPERT 1 VS MODEL\")\n",
    "for k,v in change_mean_abs_diff_dict.items():\n",
    "    print(k, v)\n",
    "print()\n",
    "\n",
    "    \n",
    "print()\n",
    "print(\"MEAN CHANGE ACCORDING TO EXPERT 1\")\n",
    "for k,v in change_dict[1].items():\n",
    "    print(k, np.mean(v))\n",
    "    \n",
    "    \n",
    "print()\n",
    "print(\"COHEN's D ACCORDING TO EXPERT 1\")\n",
    "for k,v in change_cohen.items():\n",
    "    print(k, np.mean(v))\n",
    "\n",
    "\n",
    "for k in change_dict[1].keys():\n",
    "    plt.scatter(change_dict[1][k],change_dict[2][k]) \n",
    "    plt.title(k)\n",
    "    plt.plot([0,0],[-5,5],'orange')\n",
    "    plt.plot([-5,5],[0,0], 'orange')\n",
    "    plt.plot([-1.73,-1.73],[0,-4])\n",
    "    plt.plot([1.73, 1.73],[0,-4])\n",
    "    plt.plot([-.61,-.61],[0,-4])\n",
    "    plt.plot([.61, .61],[0,-4])\n",
    "    plt.show()\n"
   ]
  },
  {
   "cell_type": "markdown",
   "metadata": {},
   "source": [
    "### See how well they agree in terms of the cartilage lesions that are identified as developing over time"
   ]
  },
  {
   "cell_type": "code",
   "execution_count": null,
   "metadata": {},
   "outputs": [],
   "source": [
    "plt.scatter(percentLesion_expert1, percentLesion_predict)\n",
    "plt.title(\"Correlation:\" + str(spearmanr(percentLesion_expert1, percentLesion_predict)))\n",
    "plt.xlabel(\"Source 1: Fraction of cartilage affected\")\n",
    "plt.ylabel(\"Source 2: Fraction of cartilage affected\")\n",
    "plt.plot([.03,.15],[.03,.15])\n",
    "plt.plot(np.unique(percentLesion_expert1), np.poly1d(np.polyfit(percentLesion_expert1, percentLesion_predict, 1))(np.unique(percentLesion_expert1)))\n",
    "plt.legend(['unity','best fit','data points'])\n",
    "plt.show()\n",
    "\n",
    "\n",
    "bias_raw = np.mean(((np.array(percentLesion_expert1) - np.array(percentLesion_predict))))\n",
    "StD_raw = np.std(np.abs((np.array(percentLesion_expert1) - np.array(percentLesion_predict))))\n",
    "Mean_Abs_error = np.mean(np.abs((np.array(percentLesion_expert1) - np.array(percentLesion_predict))))\n",
    "StD_Abs_error = np.std(np.abs((np.array(percentLesion_expert1) - np.array(percentLesion_predict))))\n",
    "\n",
    "\n",
    "print()    \n",
    "print(\"Raw Error:\", bias_raw, \"+/-\", StD_raw)\n",
    "print(\"Mean absolute error:\", Mean_Abs_error)\n",
    "print(\"StD absolute error:\", StD_Abs_error)\n",
    "\n",
    "bias_relative = np.mean(((np.array(percentLesion_expert1) - np.array(percentLesion_predict))/np.array(percentLesion_expert1)))\n",
    "StD_relative = np.std(np.abs((np.array(percentLesion_expert1) - np.array(percentLesion_predict))/np.array(percentLesion_expert1)))\n",
    "    \n",
    "print()    \n",
    "print(\"Relative Error:\", bias_relative, \"+/-\", StD_relative)\n",
    " \n",
    "print(\"Mean Lesion Coverage for Expert 1:\", np.mean(percentLesion_expert1))\n",
    "print(\"Mean Lesion Coverage for Model:\", np.mean(percentLesion_predict))\n",
    "\n"
   ]
  },
  {
   "cell_type": "code",
   "execution_count": null,
   "metadata": {},
   "outputs": [],
   "source": [
    "np.mean(np.abs((np.array(percentLesion_expert1) - np.array(percentLesion_predict))))\n",
    "\n"
   ]
  },
  {
   "cell_type": "code",
   "execution_count": null,
   "metadata": {},
   "outputs": [],
   "source": [
    "a = np.load('/data/kevin_data/qmetric/t2maps/9120358_4.npy')\n",
    "plt.imshow(a[19])"
   ]
  },
  {
   "cell_type": "code",
   "execution_count": null,
   "metadata": {},
   "outputs": [],
   "source": [
    "with open('/data/kevin_data/qmetric/t2_projected/9909311_4.npy.pickle', 'rb') as handle:\n",
    "    dict_a = pickle.load(handle)\n",
    "\n",
    "with open('/data/kevin_data/qmetric/t2_projected/9909311_8.npy.pickle', 'rb') as handle:\n",
    "    dict_b = pickle.load(handle)\n",
    "    \n",
    "a = make_projection_proportional(dict_a)\n",
    "b = make_projection_proportional(dict_b)\n",
    "a,b = align_projections(a,b)"
   ]
  },
  {
   "cell_type": "code",
   "execution_count": null,
   "metadata": {},
   "outputs": [],
   "source": [
    "plt.imshow(a)\n",
    "plt.show()"
   ]
  },
  {
   "cell_type": "code",
   "execution_count": null,
   "metadata": {},
   "outputs": [],
   "source": [
    "plt.imshow(b)\n",
    "plt.show()"
   ]
  },
  {
   "cell_type": "code",
   "execution_count": null,
   "metadata": {},
   "outputs": [],
   "source": [
    "num_pix = np.sum(b!=0)\n",
    "where_b = np.where(b)\n",
    "where_a = np.where(a)\n",
    "\n",
    "dmap = np.zeros_like(b)\n",
    "for i in range(num_pix):\n",
    "    t2_b = b[where_b[0][i], where_b[1][i]]\n",
    "    \n",
    "    distances_r = where_a[0] - where_b[0][i]\n",
    "    distances_c = where_a[1] - where_b[1][i]\n",
    "    distances = np.sqrt(distances_r**2 + distances_c**2)\n",
    "    index = np.argmin(distances)\n",
    "    t2_a = a[where_a[0][index], where_a[1][index]]\n",
    "    \n",
    "    change = t2_b - t2_a\n",
    "    dmap[where_b[0][i], where_b[1][i]] = change\n",
    "plt.imshow(dmap)"
   ]
  },
  {
   "cell_type": "code",
   "execution_count": null,
   "metadata": {},
   "outputs": [],
   "source": [
    "from difference_map_utils import eroded_and_mask\n",
    "mask = eroded_and_mask(dmap!=0,dmap!=0)\n",
    "dmap = dmap*mask\n",
    "plt.imshow(dmap)"
   ]
  },
  {
   "cell_type": "code",
   "execution_count": null,
   "metadata": {},
   "outputs": [],
   "source": [
    "a= np.array([10,2,1,5])\n",
    "i = np.argsort(a)\n",
    "a[i]"
   ]
  },
  {
   "cell_type": "code",
   "execution_count": null,
   "metadata": {},
   "outputs": [],
   "source": [
    "a=np.array([[10,1,5,3],[8,9,7,2],[1,2,3,4],[7,6,5,4]])\n",
    "a"
   ]
  },
  {
   "cell_type": "code",
   "execution_count": null,
   "metadata": {},
   "outputs": [],
   "source": [
    "a[[0,0,1],[2,3,3]]"
   ]
  },
  {
   "cell_type": "code",
   "execution_count": null,
   "metadata": {},
   "outputs": [],
   "source": []
  }
 ],
 "metadata": {
  "kernelspec": {
   "display_name": "Python 3",
   "language": "python",
   "name": "python3"
  },
  "language_info": {
   "codemirror_mode": {
    "name": "ipython",
    "version": 3
   },
   "file_extension": ".py",
   "mimetype": "text/x-python",
   "name": "python",
   "nbconvert_exporter": "python",
   "pygments_lexer": "ipython3",
   "version": "3.7.6"
  }
 },
 "nbformat": 4,
 "nbformat_minor": 2
}
