{
 "cells": [
  {
   "cell_type": "code",
   "execution_count": 1,
   "metadata": {},
   "outputs": [
    {
     "name": "stderr",
     "output_type": "stream",
     "text": [
      "Using TensorFlow backend.\n"
     ]
    }
   ],
   "source": [
    "from __future__ import print_function, division\n",
    "import sys\n",
    "sys.path.insert(0, 'lib')\n",
    "import numpy as np\n",
    "import random\n",
    "import pydicom\n",
    "import os\n",
    "import matplotlib.pyplot as plt\n",
    "import pickle\n",
    "import math\n",
    "import pydicom\n",
    "from utils import make_giant_mat, make_dictionary, make_echo_dict\n",
    "from shutil import copyfile\n",
    "import nibabel as nib\n",
    "\n",
    "from inference_utils import run_inference\n",
    "from make_inference_csv import *\n",
    "from compare_segmentations import get_dice_scores, get_jaccard_indices"
   ]
  },
  {
   "cell_type": "markdown",
   "metadata": {},
   "source": [
    "# Specify which subjects you want to analyze using their OAI Patient ID"
   ]
  },
  {
   "cell_type": "code",
   "execution_count": 2,
   "metadata": {},
   "outputs": [
    {
     "name": "stdout",
     "output_type": "stream",
     "text": [
      "['9543086' '9123289' '9260036' '9435250' '9909311' '9518827' '9013634'\n",
      " '9245760' '9458093' '9405107' '9120358' '9279874' '9376146' '9529761']\n",
      "\n",
      "['9435250' '9013634' '9909311' '9279874' '9260036']\n",
      "[4 8 8 4 8]\n"
     ]
    }
   ],
   "source": [
    "with open('/data/dominik_data/train_val_test/pid_train.pickle', 'rb') as f:    \n",
    "    pid_train = pickle.load(f)\n",
    "    \n",
    "with open('/data/dominik_data/train_val_test/pid_val.pickle', 'rb') as f:    \n",
    "    pid_val = pickle.load(f)\n",
    "      \n",
    "with open('/data/dominik_data/train_val_test/pid_test.pickle', 'rb') as f:    \n",
    "    pid_test = pickle.load(f)\n",
    "    \n",
    "with open('/data/dominik_data/train_val_test/pid_test_expert2.pickle', 'rb') as f:\n",
    "    pid_expert2 = pickle.load(f)\n",
    "    \n",
    "with open('/data/dominik_data/train_val_test/pid_test_expert2_years.pickle', 'rb') as f:\n",
    "    pid_expert2_yrs = pickle.load(f)\n",
    "\n",
    "print(pid_test)\n",
    "print()\n",
    "print(pid_expert2)\n",
    "print(pid_expert2_yrs)"
   ]
  },
  {
   "cell_type": "markdown",
   "metadata": {},
   "source": [
    "# Make Pandas Data Frame and CSV file to specify which image files you want to have analyzed\n"
   ]
  },
  {
   "cell_type": "code",
   "execution_count": 3,
   "metadata": {},
   "outputs": [
    {
     "data": {
      "text/html": [
       "<div>\n",
       "<style scoped>\n",
       "    .dataframe tbody tr th:only-of-type {\n",
       "        vertical-align: middle;\n",
       "    }\n",
       "\n",
       "    .dataframe tbody tr th {\n",
       "        vertical-align: top;\n",
       "    }\n",
       "\n",
       "    .dataframe thead th {\n",
       "        text-align: right;\n",
       "    }\n",
       "</style>\n",
       "<table border=\"1\" class=\"dataframe\">\n",
       "  <thead>\n",
       "    <tr style=\"text-align: right;\">\n",
       "      <th></th>\n",
       "      <th>img_dir</th>\n",
       "      <th>seg_path</th>\n",
       "      <th>refined_seg_path</th>\n",
       "      <th>t2_img_path</th>\n",
       "      <th>t2_region_json_path</th>\n",
       "    </tr>\n",
       "  </thead>\n",
       "  <tbody>\n",
       "    <tr>\n",
       "      <th>0</th>\n",
       "      <td>/data/kevin_data/images/YR4/9543086/T2</td>\n",
       "      <td>/data/kevin_data/predicted/segmentations/95430...</td>\n",
       "      <td>/data/kevin_data/predicted/segmentations_refin...</td>\n",
       "      <td>/data/kevin_data/predicted/t2maps/9543086_4</td>\n",
       "      <td>/data/kevin_data/predicted/region_means/954308...</td>\n",
       "    </tr>\n",
       "    <tr>\n",
       "      <th>0</th>\n",
       "      <td>/data/kevin_data/images/YR8/9543086/T2</td>\n",
       "      <td>/data/kevin_data/predicted/segmentations/95430...</td>\n",
       "      <td>/data/kevin_data/predicted/segmentations_refin...</td>\n",
       "      <td>/data/kevin_data/predicted/t2maps/9543086_8</td>\n",
       "      <td>/data/kevin_data/predicted/region_means/954308...</td>\n",
       "    </tr>\n",
       "    <tr>\n",
       "      <th>0</th>\n",
       "      <td>/data/kevin_data/images/YR4/9123289/T2</td>\n",
       "      <td>/data/kevin_data/predicted/segmentations/91232...</td>\n",
       "      <td>/data/kevin_data/predicted/segmentations_refin...</td>\n",
       "      <td>/data/kevin_data/predicted/t2maps/9123289_4</td>\n",
       "      <td>/data/kevin_data/predicted/region_means/912328...</td>\n",
       "    </tr>\n",
       "    <tr>\n",
       "      <th>0</th>\n",
       "      <td>/data/kevin_data/images/YR8/9123289/T2</td>\n",
       "      <td>/data/kevin_data/predicted/segmentations/91232...</td>\n",
       "      <td>/data/kevin_data/predicted/segmentations_refin...</td>\n",
       "      <td>/data/kevin_data/predicted/t2maps/9123289_8</td>\n",
       "      <td>/data/kevin_data/predicted/region_means/912328...</td>\n",
       "    </tr>\n",
       "    <tr>\n",
       "      <th>0</th>\n",
       "      <td>/data/kevin_data/images/YR4/9260036/T2</td>\n",
       "      <td>/data/kevin_data/predicted/segmentations/92600...</td>\n",
       "      <td>/data/kevin_data/predicted/segmentations_refin...</td>\n",
       "      <td>/data/kevin_data/predicted/t2maps/9260036_4</td>\n",
       "      <td>/data/kevin_data/predicted/region_means/926003...</td>\n",
       "    </tr>\n",
       "  </tbody>\n",
       "</table>\n",
       "</div>"
      ],
      "text/plain": [
       "                                  img_dir  \\\n",
       "0  /data/kevin_data/images/YR4/9543086/T2   \n",
       "0  /data/kevin_data/images/YR8/9543086/T2   \n",
       "0  /data/kevin_data/images/YR4/9123289/T2   \n",
       "0  /data/kevin_data/images/YR8/9123289/T2   \n",
       "0  /data/kevin_data/images/YR4/9260036/T2   \n",
       "\n",
       "                                            seg_path  \\\n",
       "0  /data/kevin_data/predicted/segmentations/95430...   \n",
       "0  /data/kevin_data/predicted/segmentations/95430...   \n",
       "0  /data/kevin_data/predicted/segmentations/91232...   \n",
       "0  /data/kevin_data/predicted/segmentations/91232...   \n",
       "0  /data/kevin_data/predicted/segmentations/92600...   \n",
       "\n",
       "                                    refined_seg_path  \\\n",
       "0  /data/kevin_data/predicted/segmentations_refin...   \n",
       "0  /data/kevin_data/predicted/segmentations_refin...   \n",
       "0  /data/kevin_data/predicted/segmentations_refin...   \n",
       "0  /data/kevin_data/predicted/segmentations_refin...   \n",
       "0  /data/kevin_data/predicted/segmentations_refin...   \n",
       "\n",
       "                                   t2_img_path  \\\n",
       "0  /data/kevin_data/predicted/t2maps/9543086_4   \n",
       "0  /data/kevin_data/predicted/t2maps/9543086_8   \n",
       "0  /data/kevin_data/predicted/t2maps/9123289_4   \n",
       "0  /data/kevin_data/predicted/t2maps/9123289_8   \n",
       "0  /data/kevin_data/predicted/t2maps/9260036_4   \n",
       "\n",
       "                                 t2_region_json_path  \n",
       "0  /data/kevin_data/predicted/region_means/954308...  \n",
       "0  /data/kevin_data/predicted/region_means/954308...  \n",
       "0  /data/kevin_data/predicted/region_means/912328...  \n",
       "0  /data/kevin_data/predicted/region_means/912328...  \n",
       "0  /data/kevin_data/predicted/region_means/926003...  "
      ]
     },
     "execution_count": 3,
     "metadata": {},
     "output_type": "execute_result"
    }
   ],
   "source": [
    "predict_pd = make_expert_csv_all_years(pID=pid_test,img_dir='/data/kevin_data/images', dir_to_save='/data/kevin_data/predicted')\n",
    "\n",
    "expert1_pd = make_expert_csv_all_years(pID=pid_test, img_dir='/data/kevin_data/images',dir_to_save='/data/kevin_data/qmetric')\n",
    "\n",
    "# We only have segmentations for one timepoint for the subjects segmented by expert2 and these are nifti files\n",
    "expert2_pd = make_expert_csv_specific_years(pID=pid_expert2, \n",
    "                                            years=pid_expert2_yrs, \n",
    "                                            img_dir='/data/kevin_data/images', \n",
    "                                            dir_to_save='/data/kevin_data/expert2', \n",
    "                                            seg_provided=True, \n",
    "                                            seg_format = \"nifti\")\n",
    "\n",
    "predict_pd.head()\n",
    "\n"
   ]
  },
  {
   "cell_type": "markdown",
   "metadata": {},
   "source": [
    "# Generate T2 maps for your MESE images\n",
    "### This is the fun part!\n",
    "- If you provide a value for the 'expert_pd' argument, it will use your provided segmentations\n",
    "\n",
    "- If you provide a value for the 'to_segment_pd' argument, it will automatically segment the cartilage and then use that auto-segmentation to generate the T2 maps. By default, this uses our trained model, but model weights can bbe changed via the 'model_weights_file' argument and the model can be changed by altering the inference.get_model function in inference.py. \n",
    "\n",
    "- In addition to generating 3D T2 maps, it also provides the segmentations used to generate those T2 maps as 3D numpy arrays and json files that summarize the avg T2 value in each anatomical region of the cartilage plate\n",
    "\n",
    "- These results are all saved in the destinations specied in your Pandas dataframe (expert_pd or to_segment_pd) that you made in the previous step"
   ]
  },
  {
   "cell_type": "code",
   "execution_count": null,
   "metadata": {},
   "outputs": [],
   "source": [
    "run_inference(to_segment_pd = predict_pd)\n",
    "              \n",
    "run_inference(expert_pd = expert1_pd)\n",
    "              \n",
    "run_inference(expert_pd = expert2_pd)"
   ]
  },
  {
   "cell_type": "markdown",
   "metadata": {},
   "source": [
    "# Compare two segmentation approaches for a single set of images\n",
    "- Quantify how closely the two segmentations agree with one another using Dice Score and Jaccard Index\n",
    "- Quantify how closely the downstream T2 measurements correlate for each region using Pearson correlation\n",
    "- Quantify the mean absolute difference in T2 measurements for each region\n"
   ]
  },
  {
   "cell_type": "code",
   "execution_count": 7,
   "metadata": {},
   "outputs": [
    {
     "data": {
      "image/png": "[encoded data removed]",
      "text/plain": [
       "<Figure size 432x288 with 1 Axes>"
      ]
     },
     "metadata": {
      "needs_background": "light"
     },
     "output_type": "display_data"
    },
    {
     "data": {
      "image/png": "[encoded data removed]",
      "text/plain": [
       "<Figure size 432x288 with 1 Axes>"
      ]
     },
     "metadata": {
      "needs_background": "light"
     },
     "output_type": "display_data"
    }
   ],
   "source": [
    "# Get Dice Score and Jaccard Index\n",
    "predicted_seg = [i + '.npy' for i in np.array(predict_pd.refined_seg_path)]\n",
    "expert1_seg = [i + '.npy' for i in np.array(expert1_pd.refined_seg_path)]\n",
    "dice_scores = get_dice_scores(predicted_seg, expert1_seg)\n",
    "jaccard_indices = get_jaccard_indices(predicted_seg, expert1_seg)\n",
    "plt.hist(dice_scores, bins = 4)\n",
    "plt.title(\"Dice Scores\")\n",
    "plt.show()\n",
    "plt.hist(jaccard_indices, bins = 4)\n",
    "plt.title(\"Jaccard Indices\")\n",
    "plt.show()"
   ]
  },
  {
   "cell_type": "code",
   "execution_count": 5,
   "metadata": {},
   "outputs": [
    {
     "data": {
      "text/plain": [
       "array([0.6833772 , 0.7624135 , 0.76367491, 0.72120419, 0.76816129,\n",
       "       0.76918355, 0.68925496, 0.67353045, 0.75715642, 0.63796579,\n",
       "       0.74275093, 0.67541433, 0.79298072, 0.80851455, 0.76159759,\n",
       "       0.74138051, 0.69274981, 0.77298858, 0.71129267, 0.74987267,\n",
       "       0.67634232, 0.70287265, 0.68750355, 0.7821828 , 0.78708134,\n",
       "       0.74993455, 0.76197512, 0.74630625])"
      ]
     },
     "execution_count": 5,
     "metadata": {},
     "output_type": "execute_result"
    }
   ],
   "source": []
  },
  {
   "cell_type": "code",
   "execution_count": null,
   "metadata": {},
   "outputs": [],
   "source": []
  }
 ],
 "metadata": {
  "kernelspec": {
   "display_name": "Python 3",
   "language": "python",
   "name": "python3"
  },
  "language_info": {
   "codemirror_mode": {
    "name": "ipython",
    "version": 3
   },
   "file_extension": ".py",
   "mimetype": "text/x-python",
   "name": "python",
   "nbconvert_exporter": "python",
   "pygments_lexer": "ipython3",
   "version": "3.7.6"
  }
 },
 "nbformat": 4,
 "nbformat_minor": 2
}
