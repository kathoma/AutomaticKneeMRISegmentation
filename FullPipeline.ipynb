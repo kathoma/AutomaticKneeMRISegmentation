{
 "cells": [
  {
   "cell_type": "code",
   "execution_count": 1,
   "metadata": {},
   "outputs": [
    {
     "name": "stderr",
     "output_type": "stream",
     "text": [
      "Using TensorFlow backend.\n"
     ]
    }
   ],
   "source": [
    "from __future__ import print_function, division\n",
    "import sys\n",
    "sys.path.insert(0, 'lib')\n",
    "import numpy as np\n",
    "import random\n",
    "import pydicom\n",
    "import os\n",
    "import matplotlib.pyplot as plt\n",
    "import pickle\n",
    "import math\n",
    "import pydicom\n",
    "from utils import make_giant_mat, make_dictionary, make_echo_dict\n",
    "from shutil import copyfile\n",
    "import nibabel as nib\n",
    "\n",
    "from inference_utils import run_inference\n",
    "from make_inference_csv import *\n",
    "from compare_segmentations import get_dice_scores, get_jaccard_indices, compare_region_means,compare_region_changes"
   ]
  },
  {
   "cell_type": "markdown",
   "metadata": {},
   "source": [
    "# Specify which subjects you want to analyze using their OAI Patient ID"
   ]
  },
  {
   "cell_type": "code",
   "execution_count": 2,
   "metadata": {},
   "outputs": [
    {
     "name": "stdout",
     "output_type": "stream",
     "text": [
      "['9543086' '9123289' '9260036' '9435250' '9909311' '9518827' '9013634'\n",
      " '9245760' '9458093' '9405107' '9120358' '9279874' '9376146' '9529761']\n",
      "\n",
      "['9435250' '9013634' '9909311' '9279874' '9260036']\n",
      "[4 8 8 4 8]\n"
     ]
    }
   ],
   "source": [
    "with open('/data/dominik_data/train_val_test/pid_train.pickle', 'rb') as f:    \n",
    "    pid_train = pickle.load(f)\n",
    "    \n",
    "with open('/data/dominik_data/train_val_test/pid_val.pickle', 'rb') as f:    \n",
    "    pid_val = pickle.load(f)\n",
    "      \n",
    "with open('/data/dominik_data/train_val_test/pid_test.pickle', 'rb') as f:    \n",
    "    pid_test = pickle.load(f)\n",
    "    \n",
    "with open('/data/dominik_data/train_val_test/pid_test_expert2.pickle', 'rb') as f:\n",
    "    pid_expert2 = pickle.load(f)\n",
    "    \n",
    "with open('/data/dominik_data/train_val_test/pid_test_expert2_years.pickle', 'rb') as f:\n",
    "    pid_expert2_yrs = pickle.load(f)\n",
    "\n",
    "print(pid_test)\n",
    "print()\n",
    "print(pid_expert2)\n",
    "print(pid_expert2_yrs)"
   ]
  },
  {
   "cell_type": "markdown",
   "metadata": {},
   "source": [
    "# Make Pandas Data Frame and CSV file to specify which image files you want to have analyzed\n"
   ]
  },
  {
   "cell_type": "code",
   "execution_count": 3,
   "metadata": {},
   "outputs": [
    {
     "name": "stdout",
     "output_type": "stream",
     "text": [
      "/data/kevin_data/expert2\n",
      "/data/kevin_data/predicted\n",
      "/data/kevin_data/qmetric\n"
     ]
    },
    {
     "data": {
      "text/html": [
       "<div>\n",
       "<style scoped>\n",
       "    .dataframe tbody tr th:only-of-type {\n",
       "        vertical-align: middle;\n",
       "    }\n",
       "\n",
       "    .dataframe tbody tr th {\n",
       "        vertical-align: top;\n",
       "    }\n",
       "\n",
       "    .dataframe thead th {\n",
       "        text-align: right;\n",
       "    }\n",
       "</style>\n",
       "<table border=\"1\" class=\"dataframe\">\n",
       "  <thead>\n",
       "    <tr style=\"text-align: right;\">\n",
       "      <th></th>\n",
       "      <th>img_dir</th>\n",
       "      <th>seg_path</th>\n",
       "      <th>refined_seg_path</th>\n",
       "      <th>t2_img_path</th>\n",
       "      <th>t2_region_json_path</th>\n",
       "    </tr>\n",
       "  </thead>\n",
       "  <tbody>\n",
       "    <tr>\n",
       "      <th>0</th>\n",
       "      <td>/data/kevin_data/images/YR4/9435250/T2</td>\n",
       "      <td>/data/kevin_data/predicted/segmentations/94352...</td>\n",
       "      <td>/data/kevin_data/predicted/segmentations_refin...</td>\n",
       "      <td>/data/kevin_data/predicted/t2maps/9435250_4</td>\n",
       "      <td>/data/kevin_data/predicted/region_means/943525...</td>\n",
       "    </tr>\n",
       "    <tr>\n",
       "      <th>0</th>\n",
       "      <td>/data/kevin_data/images/YR8/9013634/T2</td>\n",
       "      <td>/data/kevin_data/predicted/segmentations/90136...</td>\n",
       "      <td>/data/kevin_data/predicted/segmentations_refin...</td>\n",
       "      <td>/data/kevin_data/predicted/t2maps/9013634_8</td>\n",
       "      <td>/data/kevin_data/predicted/region_means/901363...</td>\n",
       "    </tr>\n",
       "    <tr>\n",
       "      <th>0</th>\n",
       "      <td>/data/kevin_data/images/YR8/9909311/T2</td>\n",
       "      <td>/data/kevin_data/predicted/segmentations/99093...</td>\n",
       "      <td>/data/kevin_data/predicted/segmentations_refin...</td>\n",
       "      <td>/data/kevin_data/predicted/t2maps/9909311_8</td>\n",
       "      <td>/data/kevin_data/predicted/region_means/990931...</td>\n",
       "    </tr>\n",
       "    <tr>\n",
       "      <th>0</th>\n",
       "      <td>/data/kevin_data/images/YR4/9279874/T2</td>\n",
       "      <td>/data/kevin_data/predicted/segmentations/92798...</td>\n",
       "      <td>/data/kevin_data/predicted/segmentations_refin...</td>\n",
       "      <td>/data/kevin_data/predicted/t2maps/9279874_4</td>\n",
       "      <td>/data/kevin_data/predicted/region_means/927987...</td>\n",
       "    </tr>\n",
       "    <tr>\n",
       "      <th>0</th>\n",
       "      <td>/data/kevin_data/images/YR8/9260036/T2</td>\n",
       "      <td>/data/kevin_data/predicted/segmentations/92600...</td>\n",
       "      <td>/data/kevin_data/predicted/segmentations_refin...</td>\n",
       "      <td>/data/kevin_data/predicted/t2maps/9260036_8</td>\n",
       "      <td>/data/kevin_data/predicted/region_means/926003...</td>\n",
       "    </tr>\n",
       "  </tbody>\n",
       "</table>\n",
       "</div>"
      ],
      "text/plain": [
       "                                  img_dir  \\\n",
       "0  /data/kevin_data/images/YR4/9435250/T2   \n",
       "0  /data/kevin_data/images/YR8/9013634/T2   \n",
       "0  /data/kevin_data/images/YR8/9909311/T2   \n",
       "0  /data/kevin_data/images/YR4/9279874/T2   \n",
       "0  /data/kevin_data/images/YR8/9260036/T2   \n",
       "\n",
       "                                            seg_path  \\\n",
       "0  /data/kevin_data/predicted/segmentations/94352...   \n",
       "0  /data/kevin_data/predicted/segmentations/90136...   \n",
       "0  /data/kevin_data/predicted/segmentations/99093...   \n",
       "0  /data/kevin_data/predicted/segmentations/92798...   \n",
       "0  /data/kevin_data/predicted/segmentations/92600...   \n",
       "\n",
       "                                    refined_seg_path  \\\n",
       "0  /data/kevin_data/predicted/segmentations_refin...   \n",
       "0  /data/kevin_data/predicted/segmentations_refin...   \n",
       "0  /data/kevin_data/predicted/segmentations_refin...   \n",
       "0  /data/kevin_data/predicted/segmentations_refin...   \n",
       "0  /data/kevin_data/predicted/segmentations_refin...   \n",
       "\n",
       "                                   t2_img_path  \\\n",
       "0  /data/kevin_data/predicted/t2maps/9435250_4   \n",
       "0  /data/kevin_data/predicted/t2maps/9013634_8   \n",
       "0  /data/kevin_data/predicted/t2maps/9909311_8   \n",
       "0  /data/kevin_data/predicted/t2maps/9279874_4   \n",
       "0  /data/kevin_data/predicted/t2maps/9260036_8   \n",
       "\n",
       "                                 t2_region_json_path  \n",
       "0  /data/kevin_data/predicted/region_means/943525...  \n",
       "0  /data/kevin_data/predicted/region_means/901363...  \n",
       "0  /data/kevin_data/predicted/region_means/990931...  \n",
       "0  /data/kevin_data/predicted/region_means/927987...  \n",
       "0  /data/kevin_data/predicted/region_means/926003...  "
      ]
     },
     "execution_count": 3,
     "metadata": {},
     "output_type": "execute_result"
    }
   ],
   "source": [
    "predict_pd = make_expert_csv_all_years(pID=pid_test,img_dir='/data/kevin_data/images', dir_to_save='/data/kevin_data/predicted')\n",
    "\n",
    "expert1_pd = make_expert_csv_all_years(pID=pid_test, img_dir='/data/kevin_data/images',dir_to_save='/data/kevin_data/qmetric')\n",
    "\n",
    "# We only have segmentations for one timepoint for the subjects segmented by expert2 and these are nifti files\n",
    "expert2_pd = make_expert_csv_specific_years(pID=pid_expert2, \n",
    "                                            years=pid_expert2_yrs, \n",
    "                                            img_dir='/data/kevin_data/images', \n",
    "                                            dir_to_save='/data/kevin_data/expert2', \n",
    "                                            seg_provided=True, \n",
    "                                            seg_format = \"numpy\")\n",
    "\n",
    "predict_subset_pd = make_expert_csv_specific_years(pID=pid_expert2, \n",
    "                                            years=pid_expert2_yrs, \n",
    "                                            img_dir='/data/kevin_data/images', \n",
    "                                            dir_to_save='/data/kevin_data/predicted', \n",
    "                                            seg_provided=True, \n",
    "                                            seg_format = \"numpy\",\n",
    "                                            csv_filename = 'file_paths_subset.csv')\n",
    "\n",
    "expert1_subset_pd = make_expert_csv_specific_years(pID=pid_expert2, \n",
    "                                            years=pid_expert2_yrs, \n",
    "                                            img_dir='/data/kevin_data/images', \n",
    "                                            dir_to_save='/data/kevin_data/qmetric', \n",
    "                                            seg_provided=True, \n",
    "                                            seg_format = \"numpy\",\n",
    "                                            csv_filename = 'file_paths_subset.csv')\n",
    "predict_subset_pd.head()\n",
    "\n"
   ]
  },
  {
   "cell_type": "markdown",
   "metadata": {},
   "source": [
    "# Generate T2 maps for your MESE images\n",
    "### This is the fun part!\n",
    "- If you provide a value for the 'expert_pd' argument, it will use your provided segmentations\n",
    "\n",
    "- If you provide a value for the 'to_segment_pd' argument, it will automatically segment the cartilage and then use that auto-segmentation to generate the T2 maps. By default, this uses our trained model, but model weights can bbe changed via the 'model_weights_file' argument and the model can be changed by altering the inference.get_model function in inference.py. \n",
    "\n",
    "- In addition to generating 3D T2 maps, it also provides the segmentations used to generate those T2 maps as 3D numpy arrays and json files that summarize the avg T2 value in each anatomical region of the cartilage plate\n",
    "\n",
    "- These results are all saved in the destinations specied in your Pandas dataframe (expert_pd or to_segment_pd) that you made in the previous step"
   ]
  },
  {
   "cell_type": "code",
   "execution_count": 4,
   "metadata": {
    "scrolled": true
   },
   "outputs": [
    {
     "name": "stdout",
     "output_type": "stream",
     "text": [
      "--------------------------------\n",
      "Automatically segmenting images and using those segmentations to analyze MESE MRIs\n",
      "--------------------------------\n",
      "\n",
      "/data/kevin_data/images/YR4/9543086/T2\n"
     ]
    },
    {
     "name": "stderr",
     "output_type": "stream",
     "text": [
      "/home/Kevin/AutomaticKneeMRISegmentation/models.py:97: UserWarning: Update your `Conv2DTranspose` call to the Keras 2 API: `Conv2DTranspose(512, (3, 3), padding=\"same\", strides=(2, 2))`\n",
      "  output_shape=deconv_shape)(conv),\n",
      "/home/Kevin/AutomaticKneeMRISegmentation/models.py:97: UserWarning: Update your `Conv2DTranspose` call to the Keras 2 API: `Conv2DTranspose(256, (3, 3), padding=\"same\", strides=(2, 2))`\n",
      "  output_shape=deconv_shape)(conv),\n",
      "/home/Kevin/AutomaticKneeMRISegmentation/models.py:97: UserWarning: Update your `Conv2DTranspose` call to the Keras 2 API: `Conv2DTranspose(128, (3, 3), padding=\"same\", strides=(2, 2))`\n",
      "  output_shape=deconv_shape)(conv),\n",
      "/home/Kevin/AutomaticKneeMRISegmentation/models.py:97: UserWarning: Update your `Conv2DTranspose` call to the Keras 2 API: `Conv2DTranspose(64, (3, 3), padding=\"same\", strides=(2, 2))`\n",
      "  output_shape=deconv_shape)(conv),\n",
      "/home/Kevin/AutomaticKneeMRISegmentation/models.py:97: UserWarning: Update your `Conv2DTranspose` call to the Keras 2 API: `Conv2DTranspose(32, (3, 3), padding=\"same\", strides=(2, 2))`\n",
      "  output_shape=deconv_shape)(conv),\n",
      "/home/shared/anaconda3/envs/python3/lib/python3.7/site-packages/scipy/optimize/minpack.py:808: OptimizeWarning: Covariance of the parameters could not be estimated\n",
      "  category=OptimizeWarning)\n",
      "/home/shared/anaconda3/envs/python3/lib/python3.7/site-packages/numpy/core/fromnumeric.py:3257: RuntimeWarning: Mean of empty slice.\n",
      "  out=out, **kwargs)\n",
      "/home/shared/anaconda3/envs/python3/lib/python3.7/site-packages/numpy/core/_methods.py:161: RuntimeWarning: invalid value encountered in double_scalars\n",
      "  ret = ret.dtype.type(ret / rcount)\n"
     ]
    },
    {
     "name": "stdout",
     "output_type": "stream",
     "text": [
      "/data/kevin_data/images/YR8/9543086/T2\n",
      "/data/kevin_data/images/YR4/9123289/T2\n",
      "/data/kevin_data/images/YR8/9123289/T2\n",
      "/data/kevin_data/images/YR4/9260036/T2\n",
      "/data/kevin_data/images/YR8/9260036/T2\n",
      "/data/kevin_data/images/YR4/9435250/T2\n",
      "/data/kevin_data/images/YR8/9435250/T2\n",
      "/data/kevin_data/images/YR4/9909311/T2\n",
      "/data/kevin_data/images/YR8/9909311/T2\n",
      "/data/kevin_data/images/YR4/9518827/T2\n",
      "/data/kevin_data/images/YR8/9518827/T2\n",
      "/data/kevin_data/images/YR4/9013634/T2\n",
      "/data/kevin_data/images/YR8/9013634/T2\n",
      "/data/kevin_data/images/YR4/9245760/T2\n",
      "/data/kevin_data/images/YR8/9245760/T2\n",
      "/data/kevin_data/images/YR4/9458093/T2\n",
      "/data/kevin_data/images/YR8/9458093/T2\n",
      "/data/kevin_data/images/YR4/9405107/T2\n",
      "/data/kevin_data/images/YR8/9405107/T2\n",
      "/data/kevin_data/images/YR4/9120358/T2\n",
      "/data/kevin_data/images/YR8/9120358/T2\n",
      "/data/kevin_data/images/YR4/9279874/T2\n",
      "/data/kevin_data/images/YR8/9279874/T2\n",
      "/data/kevin_data/images/YR4/9376146/T2\n",
      "/data/kevin_data/images/YR8/9376146/T2\n",
      "/data/kevin_data/images/YR4/9529761/T2\n",
      "/data/kevin_data/images/YR8/9529761/T2\n",
      "--------------------------------\n",
      "Using provided segmentations to analyze MESE MRIs\n",
      "--------------------------------\n",
      "\n",
      "/data/kevin_data/qmetric/segmentations/9543086_4.npy\n",
      "/data/kevin_data/qmetric/segmentations/9543086_8.npy\n",
      "/data/kevin_data/qmetric/segmentations/9123289_4.npy\n",
      "/data/kevin_data/qmetric/segmentations/9123289_8.npy\n",
      "/data/kevin_data/qmetric/segmentations/9260036_4.npy\n",
      "/data/kevin_data/qmetric/segmentations/9260036_8.npy\n",
      "/data/kevin_data/qmetric/segmentations/9435250_4.npy\n",
      "/data/kevin_data/qmetric/segmentations/9435250_8.npy\n",
      "/data/kevin_data/qmetric/segmentations/9909311_4.npy\n",
      "/data/kevin_data/qmetric/segmentations/9909311_8.npy\n",
      "/data/kevin_data/qmetric/segmentations/9518827_4.npy\n",
      "/data/kevin_data/qmetric/segmentations/9518827_8.npy\n",
      "/data/kevin_data/qmetric/segmentations/9013634_4.npy\n",
      "/data/kevin_data/qmetric/segmentations/9013634_8.npy\n",
      "/data/kevin_data/qmetric/segmentations/9245760_4.npy\n",
      "/data/kevin_data/qmetric/segmentations/9245760_8.npy\n",
      "/data/kevin_data/qmetric/segmentations/9458093_4.npy\n",
      "/data/kevin_data/qmetric/segmentations/9458093_8.npy\n",
      "/data/kevin_data/qmetric/segmentations/9405107_4.npy\n",
      "/data/kevin_data/qmetric/segmentations/9405107_8.npy\n",
      "/data/kevin_data/qmetric/segmentations/9120358_4.npy\n",
      "/data/kevin_data/qmetric/segmentations/9120358_8.npy\n",
      "/data/kevin_data/qmetric/segmentations/9279874_4.npy\n",
      "/data/kevin_data/qmetric/segmentations/9279874_8.npy\n",
      "/data/kevin_data/qmetric/segmentations/9376146_4.npy\n",
      "/data/kevin_data/qmetric/segmentations/9376146_8.npy\n",
      "/data/kevin_data/qmetric/segmentations/9529761_4.npy\n",
      "/data/kevin_data/qmetric/segmentations/9529761_8.npy\n",
      "--------------------------------\n",
      "Using provided segmentations to analyze MESE MRIs\n",
      "--------------------------------\n",
      "\n",
      "/data/kevin_data/expert2/segmentations/9435250_4.npy\n",
      "/data/kevin_data/expert2/segmentations/9013634_8.npy\n",
      "/data/kevin_data/expert2/segmentations/9909311_8.npy\n",
      "/data/kevin_data/expert2/segmentations/9279874_4.npy\n",
      "/data/kevin_data/expert2/segmentations/9260036_8.npy\n"
     ]
    }
   ],
   "source": [
    "run_inference(to_segment_pd = predict_pd)\n",
    "              \n",
    "run_inference(expert_pd = expert1_pd)\n",
    "              \n",
    "run_inference(expert_pd = expert2_pd)\n",
    "\n",
    "# We don't need to generate additional segmentations for the 'predict_subset_pd' or 'expert1_subset_pd' \n",
    "# because they are already generated as part of the 'predict_pd' and 'expert1_pd'"
   ]
  },
  {
   "cell_type": "code",
   "execution_count": 6,
   "metadata": {},
   "outputs": [],
   "source": [
    "# Flip the expert segmentations if you haven't already\n",
    "# for file in os.listdir('/data/kevin_data/expert2/segmentations'):\n",
    "#     if file[-4:]=='.npy':\n",
    "#         temp = np.load(os.path.join('/data/kevin_data/expert2/segmentations',file))\n",
    "#         temp = np.flip(temp, axis = 0)\n",
    "#         np.save(os.path.join('/data/kevin_data/expert2/segmentations',file),temp)"
   ]
  },
  {
   "cell_type": "markdown",
   "metadata": {},
   "source": [
    "# Compare two segmentation approaches for a single set of images\n",
    "- Quantify how closely the two segmentations agree with one another using Dice Score and Jaccard Index\n",
    "- Quantify how closely the downstream T2 measurements correlate for each region using Pearson correlation\n",
    "- Quantify the mean absolute difference in T2 measurements for each region\n"
   ]
  },
  {
   "cell_type": "code",
   "execution_count": 22,
   "metadata": {},
   "outputs": [
    {
     "data": {
      "image/png": "[encoded data removed]",
      "text/plain": [
       "<Figure size 432x288 with 1 Axes>"
      ]
     },
     "metadata": {
      "needs_background": "light"
     },
     "output_type": "display_data"
    },
    {
     "data": {
      "image/png": "[encoded data removed]",
      "text/plain": [
       "<Figure size 432x288 with 1 Axes>"
      ]
     },
     "metadata": {
      "needs_background": "light"
     },
     "output_type": "display_data"
    }
   ],
   "source": [
    "source1 = expert1_pd.copy()\n",
    "source2 = predict_pd.copy()\n",
    "\n",
    "source1_seg = [i + '.npy' for i in np.array(source1.refined_seg_path)]\n",
    "# source1_seg = list(source1.seg_path)\n",
    "\n",
    "source2_seg = [i + '.npy' for i in np.array(source2.refined_seg_path)]\n",
    "# source2_seg = list(source2.seg_path)\n",
    "\n",
    "\n",
    "# Get Dice Score \n",
    "dice_scores = get_dice_scores(source1_seg, source2_seg)\n",
    "\n",
    "# Get Jaccard Index\n",
    "jaccard_indices = get_jaccard_indices(source1_seg, source2_seg)\n",
    "\n",
    "# See how well they agree in terms of the average T2 value in each cartilage region of each image\n",
    "source1_regions = list(source1.t2_region_json_path)\n",
    "source2_regions = list(source2.t2_region_json_path)\n",
    "correlation_dict, mean_abs_diff_dict = compare_region_means(source1_regions, source2_regions, results_path=None)\n",
    "\n",
    "\n",
    "# See how well they agree in terms of the average T2 change over time in each cartilage region of each image\n",
    "source1_regions1 = [i for i in source1_regions if i[-6]=='4']\n",
    "source1_regions2 = [i for i in source1_regions if i[-6]=='8']\n",
    "source2_regions1 = [i for i in source2_regions if i[-6]=='4']\n",
    "source2_regions2 = [i for i in source2_regions if i[-6]=='8']\n",
    "\n",
    "if len(source1_regions1)==len(source1_regions2):\n",
    "    change_correlation_dict, change_mean_abs_diff_dict = compare_region_changes(source1_regions1,\n",
    "                                                                                source1_regions2, \n",
    "                                                                                source2_regions1,\n",
    "                                                                                source2_regions2, \n",
    "                                                                                results_path=None)\n",
    "plt.hist(dice_scores, bins = 4)\n",
    "plt.title(\"Dice Scores\")\n",
    "plt.show()\n",
    "\n",
    "plt.hist(jaccard_indices, bins = 4)\n",
    "plt.title(\"Jaccard Indices\")\n",
    "plt.show()"
   ]
  },
  {
   "cell_type": "code",
   "execution_count": 25,
   "metadata": {},
   "outputs": [
    {
     "data": {
      "text/plain": [
       "{'all': 0.40568825137207604,\n",
       " 'superficial': 0.5102981384967771,\n",
       " 'deep': 0.5133353160956593,\n",
       " 'SLA': 1.435832283184708,\n",
       " 'SLC': 1.2316775209888513,\n",
       " 'SLP': 0.8778900633798907,\n",
       " 'SUA': 1.981700806958975,\n",
       " 'SUC': 0.9058125601407949,\n",
       " 'SUP': 1.1572836315188764,\n",
       " 'DLA': 0.9914941838863768,\n",
       " 'DLC': 1.3569768929004649,\n",
       " 'DLP': 1.1993144862661858,\n",
       " 'DUA': 1.6699665143668374,\n",
       " 'DUC': 1.9641337048921395,\n",
       " 'DUP': 1.3050470322961487,\n",
       " 'LA': 1.027298868244049,\n",
       " 'LC': 0.7407185102125499,\n",
       " 'LP': 0.7816603039841389,\n",
       " 'UA': 1.521837531864047,\n",
       " 'UC': 1.0878131592927356,\n",
       " 'UP': 0.9538690813465492}"
      ]
     },
     "execution_count": 25,
     "metadata": {},
     "output_type": "execute_result"
    }
   ],
   "source": [
    "mean_abs_diff_dict"
   ]
  },
  {
   "cell_type": "code",
   "execution_count": null,
   "metadata": {},
   "outputs": [],
   "source": [
    "from loss_functions import dice_loss_test_volume"
   ]
  },
  {
   "cell_type": "code",
   "execution_count": null,
   "metadata": {},
   "outputs": [],
   "source": [
    "dice_loss_test_volume(np.flip(elka, axis = 0), qmetric)"
   ]
  },
  {
   "cell_type": "code",
   "execution_count": null,
   "metadata": {},
   "outputs": [],
   "source": [
    "for file in os.listdir('/data/kevin_data/expert2/segmentations'):\n",
    "    if file[-4:]=='.npy':\n",
    "        temp = np.load(os.path.join('/data/kevin_data/expert2/segmentations',file))\n",
    "        temp = np.flip(temp, axis = 0)\n",
    "        np.save(os.path.join('/data/kevin_data/expert2/segmentations',file),temp)"
   ]
  },
  {
   "cell_type": "code",
   "execution_count": null,
   "metadata": {},
   "outputs": [],
   "source": []
  }
 ],
 "metadata": {
  "kernelspec": {
   "display_name": "Python 3",
   "language": "python",
   "name": "python3"
  },
  "language_info": {
   "codemirror_mode": {
    "name": "ipython",
    "version": 3
   },
   "file_extension": ".py",
   "mimetype": "text/x-python",
   "name": "python",
   "nbconvert_exporter": "python",
   "pygments_lexer": "ipython3",
   "version": "3.7.6"
  }
 },
 "nbformat": 4,
 "nbformat_minor": 2
}
