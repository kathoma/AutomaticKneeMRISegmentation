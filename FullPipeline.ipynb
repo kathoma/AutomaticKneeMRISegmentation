{
 "cells": [
  {
   "cell_type": "code",
   "execution_count": 1,
   "metadata": {},
   "outputs": [
    {
     "name": "stderr",
     "output_type": "stream",
     "text": [
      "Using TensorFlow backend.\n"
     ]
    }
   ],
   "source": [
    "from __future__ import print_function, division\n",
    "import sys\n",
    "sys.path.insert(0, 'lib')\n",
    "import numpy as np\n",
    "import random\n",
    "import pydicom\n",
    "import os\n",
    "import matplotlib.pyplot as plt\n",
    "import pickle\n",
    "import math\n",
    "import pydicom\n",
    "from utils import make_giant_mat, make_dictionary, make_echo_dict\n",
    "from shutil import copyfile\n",
    "import nibabel as nib\n",
    "import scipy.ndimage as ndimage\n",
    "from scipy.stats import pearsonr, spearmanr\n",
    "\n",
    "from difference_map_utils import make_difference\n",
    "from cluster_utils import threshold_diffmaps, strip_empty_lines, resize\n",
    "from lesion_utils import *\n",
    "from inference_utils import run_inference\n",
    "from make_inference_csv import *\n",
    "from compare_segmentations import get_dice_scores, get_jaccard_indices, compare_region_means, compare_region_changes\n",
    "from loss_functions import coefficient_of_variation\n",
    "from figure_utils import plot_mean_val_comparisons\n"
   ]
  },
  {
   "cell_type": "markdown",
   "metadata": {},
   "source": [
    "# Specify which subjects you want to analyze using their OAI Patient ID"
   ]
  },
  {
   "cell_type": "code",
   "execution_count": 2,
   "metadata": {},
   "outputs": [
    {
     "name": "stdout",
     "output_type": "stream",
     "text": [
      "['9543086' '9123289' '9260036' '9435250' '9909311' '9518827' '9013634'\n",
      " '9245760' '9458093' '9405107' '9120358' '9279874' '9376146' '9529761']\n",
      "\n",
      "['9435250' '9013634' '9909311' '9279874' '9260036']\n",
      "[4 8 8 4 8]\n"
     ]
    }
   ],
   "source": [
    "with open('/data/dominik_data/train_val_test/pid_train.pickle', 'rb') as f:    \n",
    "    pid_train = pickle.load(f)\n",
    "    \n",
    "with open('/data/dominik_data/train_val_test/pid_val.pickle', 'rb') as f:    \n",
    "    pid_val = pickle.load(f)\n",
    "      \n",
    "with open('/data/dominik_data/train_val_test/pid_test.pickle', 'rb') as f:    \n",
    "    pid_test = pickle.load(f)\n",
    "    \n",
    "with open('/data/dominik_data/train_val_test/pid_test_expert2.pickle', 'rb') as f:\n",
    "    pid_expert2 = pickle.load(f)\n",
    "    \n",
    "with open('/data/dominik_data/train_val_test/pid_test_expert2_years.pickle', 'rb') as f:\n",
    "    pid_expert2_yrs = pickle.load(f)\n",
    "\n",
    "print(pid_test)\n",
    "print()\n",
    "print(pid_expert2)\n",
    "print(pid_expert2_yrs)"
   ]
  },
  {
   "cell_type": "markdown",
   "metadata": {},
   "source": [
    "# Make Pandas Data Frame and CSV file to specify which image files you want to have analyzed\n"
   ]
  },
  {
   "cell_type": "code",
   "execution_count": 3,
   "metadata": {},
   "outputs": [],
   "source": [
    "predict_pd = make_expert_csv_all_years(pID=pid_test,img_dir='/data/kevin_data/images', dir_to_save='/data/kevin_data/predicted')\n",
    "\n",
    "expert1_pd = make_expert_csv_all_years(pID=pid_test, img_dir='/data/kevin_data/images',dir_to_save='/data/kevin_data/qmetric')\n",
    "\n",
    "# We only have segmentations for one timepoint for the subjects segmented by expert2 and these are nifti files\n",
    "expert2_pd = make_expert_csv_specific_years(pID=pid_expert2, \n",
    "                                            years=pid_expert2_yrs, \n",
    "                                            img_dir='/data/kevin_data/images', \n",
    "                                            dir_to_save='/data/kevin_data/expert2', \n",
    "                                            seg_provided=True, \n",
    "                                            seg_format = \"numpy\")\n",
    "\n",
    "predict_subset_pd = make_expert_csv_specific_years(pID=pid_expert2, \n",
    "                                            years=pid_expert2_yrs, \n",
    "                                            img_dir='/data/kevin_data/images', \n",
    "                                            dir_to_save='/data/kevin_data/predicted', \n",
    "                                            seg_provided=True, \n",
    "                                            seg_format = \"numpy\",\n",
    "                                            csv_filename = 'file_paths_subset.csv')\n",
    "\n",
    "expert1_subset_pd = make_expert_csv_specific_years(pID=pid_expert2, \n",
    "                                            years=pid_expert2_yrs, \n",
    "                                            img_dir='/data/kevin_data/images', \n",
    "                                            dir_to_save='/data/kevin_data/qmetric', \n",
    "                                            seg_provided=True, \n",
    "                                            seg_format = \"numpy\",\n",
    "                                            csv_filename = 'file_paths_subset.csv')\n",
    "# for f in np.array(expert2_pd.image_dir):\n",
    "#     print(f)\n"
   ]
  },
  {
   "cell_type": "markdown",
   "metadata": {},
   "source": [
    "# Generate Segmentations and T2 maps for your MESE images\n",
    "- If you provide a value for the 'expert_pd' argument, it will use your provided segmentations\n",
    "\n",
    "- If you provide a value for the 'to_segment_pd' argument, it will automatically segment the cartilage and then use that auto-segmentation to generate the T2 maps. By default, this uses our trained model, but model weights can be changed via the 'model_weights_file' argument and the model can be changed by altering the inference.get_model function in inference.py. \n",
    "\n",
    "- In addition to generating 3D T2 maps, it also provides the segmentations used to generate those T2 maps as 3D numpy arrays and json files that summarize the avg T2 value in each anatomical region of the cartilage plate\n",
    "\n",
    "- These results are all saved in the destinations specied in your Pandas dataframe (expert_pd or to_segment_pd) that you made in the previous step"
   ]
  },
  {
   "cell_type": "code",
   "execution_count": 4,
   "metadata": {
    "scrolled": true
   },
   "outputs": [],
   "source": [
    "# run_inference(to_segment_pd = predict_pd)\n",
    "              \n",
    "# run_inference(expert_pd = expert1_pd)\n",
    "              \n",
    "# run_inference(expert_pd = expert2_pd)\n",
    "\n",
    "# We don't need to generate additional segmentations for the 'predict_subset_pd' or 'expert1_subset_pd' \n",
    "# because they are already generated as part of the 'predict_pd' and 'expert1_pd'"
   ]
  },
  {
   "cell_type": "code",
   "execution_count": 5,
   "metadata": {},
   "outputs": [],
   "source": [
    "# Flip the expert segmentations if you haven't already\n",
    "# for file in os.listdir('/data/kevin_data/expert2/segmentations'):\n",
    "#     if file[-4:]=='.npy':\n",
    "#         temp = np.load(os.path.join('/data/kevin_data/expert2/segmentations',file))\n",
    "#         temp = np.flip(temp, axis = 0)\n",
    "#         np.save(os.path.join('/data/kevin_data/expert2/segmentations',file),temp)"
   ]
  },
  {
   "cell_type": "markdown",
   "metadata": {},
   "source": [
    "# Use cluster analysis to identify cartilage lesions developing over time\n",
    "<img src=\"ClusterAnalysisExample.png\" alt=\"Drawing\" style=\"width: 200px;\"/>\n",
    "\n",
    "Find the percentage of the femoral cartilage surface area that is affected by cartilage lesions. In this context, a lesion is a localized area of cartilage that has increased in T2 value over time more than the surrounding area. You can adjust the settings in calculate_group_lesion_area() to make the criteria for lesions more or less strict based on how large a cluster must be and how much the T2 value must increase. \n",
    "\n",
    "Lesions are identified using methods adapted from the following manuscript:\n",
    "\n",
    "Monu, Uchechukwuka D., et al. \"Cluster analysis of quantitative MRI T2 and T1ρ relaxation times of cartilage identifies differences between healthy and ACL-injured individuals at 3T.\" Osteoarthritis and cartilage 25.4 (2017): 513-520.\n",
    "\n"
   ]
  },
  {
   "cell_type": "code",
   "execution_count": null,
   "metadata": {
    "scrolled": true
   },
   "outputs": [],
   "source": [
    "paths = np.array(predict_pd.t2_projected_path)\n",
    "paths = [i + '.pickle' for i in paths]\n",
    "source1_time1 = np.sort([i for i in paths if i[-12]=='4'])\n",
    "source1_time2 = np.sort([i for i in paths if i[-12]=='8'])\n",
    "\n",
    "paths = np.array(expert1_pd.t2_projected_path)\n",
    "paths = [i + '.pickle' for i in paths]\n",
    "source2_time1 = np.sort([i for i in paths if i[-12]=='4'])\n",
    "source2_time2 = np.sort([i for i in paths if i[-12]=='8'])\n",
    "\n",
    "\n",
    "percentLesion_expert1 = calculate_group_lesion_area(timepoint1=source2_time1,\n",
    "                                                     timepoint2=source2_time2, \n",
    "#                                                      value_threshold = 9,\n",
    "                                                     sigma_multiple = 1,\n",
    "#                                                      area_value_threshold = 12.4,\n",
    "                                                     area_fraction_threshold = .01, \n",
    "                                                     area_percentile_threshold = None,\n",
    "                                                     display=False,\n",
    "                                                     save_path_list=None)\n",
    "\n",
    "percentLesion_predict = calculate_group_lesion_area(timepoint1=source1_time1,\n",
    "                                                     timepoint2=source1_time2, \n",
    "#                                                      value_threshold = 9,\n",
    "                                                     sigma_multiple = 1,\n",
    "#                                                      area_value_threshold = 12.4,\n",
    "                                                     area_fraction_threshold = .01, \n",
    "                                                     area_percentile_threshold = None,\n",
    "                                                     display=False,\n",
    "                                                     save_path_list = None)\n",
    "\n",
    "# SAVE THE RESIZED PROJECTIONS AND LESION MAPS!\n",
    "\n",
    "\n"
   ]
  },
  {
   "cell_type": "markdown",
   "metadata": {},
   "source": [
    "# Compare two segmentation approaches (e.g. manual vs automated)\n",
    "- Quantify how closely the two segmentations agree with one another using Dice Score and Jaccard Index\n",
    "- Quantify how closely the downstream T2 measurements correlate for each region using Pearson correlation\n",
    "- Quantify the mean absolute difference in T2 measurements for each region\n",
    "- Quantify the agreement in the percentage of the cartilage plate that has lesion via Pearson correlation\n",
    "- Quantify the agreement in the lesions identified using Dice Score and Jaccard Index"
   ]
  },
  {
   "cell_type": "markdown",
   "metadata": {},
   "source": [
    "### Quantify how closely the two segmentations agree with one another using Dice Score and Jaccard Index\n"
   ]
  },
  {
   "cell_type": "code",
   "execution_count": 7,
   "metadata": {},
   "outputs": [
    {
     "name": "stdout",
     "output_type": "stream",
     "text": [
      "0.7211 +/- 0.0246\n"
     ]
    },
    {
     "data": {
      "image/png": "[encoded data removed]",
      "text/plain": [
       "<Figure size 432x288 with 1 Axes>"
      ]
     },
     "metadata": {
      "needs_background": "light"
     },
     "output_type": "display_data"
    },
    {
     "name": "stdout",
     "output_type": "stream",
     "text": [
      "0.5645 +/- 0.0299\n"
     ]
    },
    {
     "data": {
      "image/png": "[encoded data removed]",
      "text/plain": [
       "<Figure size 432x288 with 1 Axes>"
      ]
     },
     "metadata": {
      "needs_background": "light"
     },
     "output_type": "display_data"
    }
   ],
   "source": [
    "source1 = expert1_subset_pd.copy()\n",
    "source2 = expert2_pd.copy()\n",
    "source3 = predict_subset_pd.copy()\n",
    "\n",
    "source1_seg = np.array(source1.refined_seg_path) #[i + '.npy' for i in np.array(source1.refined_seg_path)]\n",
    "# source1_seg = list(source1.seg_path)\n",
    "\n",
    "source2_seg = np.array(source2.refined_seg_path) #[i + '.npy' for i in np.array(source2.refined_seg_path)]\n",
    "# source2_seg = list(source2.seg_path)\n",
    "\n",
    "\n",
    "# Get Dice Score \n",
    "dice_scores = get_dice_scores(source1_seg, source2_seg)\n",
    "\n",
    "# Get Jaccard Index\n",
    "jaccard_indices = get_jaccard_indices(source1_seg, source2_seg)\n",
    "\n",
    "# Display results\n",
    "print(np.round(np.mean(dice_scores),4), \"+/-\",np.round(np.std(dice_scores),4))\n",
    "plt.hist(dice_scores, bins = 10)\n",
    "plt.title(\"Dice Scores: Mean = \" + str(np.round(np.mean(dice_scores),4)) + \" +/- \" + str(np.round(np.std(dice_scores),4)))\n",
    "plt.show()\n",
    "\n",
    "print(np.round(np.mean(jaccard_indices),4), \"+/-\",np.round(np.std(jaccard_indices),4))\n",
    "plt.hist(jaccard_indices, bins = 10)\n",
    "plt.title(\"Jaccard Indices: Mean = \" + str(np.round(np.mean(jaccard_indices),4)) + \" +/- \" + str(np.round(np.std(jaccard_indices),4)))\n",
    "plt.show()\n",
    "\n"
   ]
  },
  {
   "cell_type": "markdown",
   "metadata": {},
   "source": [
    "### See how well they agree in terms of the average T2 value in each cartilage region of each image"
   ]
  },
  {
   "cell_type": "code",
   "execution_count": 8,
   "metadata": {
    "scrolled": true
   },
   "outputs": [
    {
     "name": "stdout",
     "output_type": "stream",
     "text": [
      "EXPERT1 VS EXPERT2\n",
      "all (1.021297135410228, 0.477149941047121)\n",
      "superficial (1.2119147635652225, 0.5921319898501995)\n",
      "deep (1.7527353883726178, 0.7436889450706966)\n",
      "SLA (2.1575028731803285, 0.5071127766312895)\n",
      "SLC (2.9879153222670127, 1.255913957430503)\n",
      "SLP (0.7304218051888697, 0.3339061395647288)\n",
      "SUA (2.0536484878315617, 1.1245644487487676)\n",
      "SUC (1.7272195406188402, 1.0445007311367154)\n",
      "SUP (3.0260387539390323, 1.4991591432121154)\n",
      "DLA (4.822998492007883, 3.2090467874889903)\n",
      "DLC (4.29455852232432, 1.7684908328776292)\n",
      "DLP (2.4276648281379765, 1.6522855723193213)\n",
      "DUA (3.835154900633981, 1.6010161621177463)\n",
      "DUC (1.2158378079911685, 0.7103511589405803)\n",
      "DUP (2.656994497741927, 1.104560763454363)\n",
      "LA (3.1585305928756684, 1.1320495723238941)\n",
      "LC (2.0463315567932723, 1.4167180905811405)\n",
      "LP (1.2375325512801425, 0.7070793345654875)\n",
      "UA (2.87297392777659, 1.0917717452562896)\n",
      "UC (1.175867894372955, 0.7725199390903688)\n",
      "UP (2.1054045411639466, 1.1076575543627747)\n",
      "\n",
      "EXPERT1 VS MODEL\n",
      "all (0.7331448933983452, 0.48003933551549977)\n",
      "superficial (0.8096715015985894, 0.7079232585081107)\n",
      "deep (0.7444471147478324, 0.43435480512593216)\n",
      "SLA (1.2712573342210802, 0.5309272018706793)\n",
      "SLC (0.6392449921883809, 0.44232144430068504)\n",
      "SLP (1.1009980658234908, 1.0856664842730455)\n",
      "SUA (2.3448670857404963, 2.8150491931496946)\n",
      "SUC (1.253107207995909, 0.5028787679270756)\n",
      "SUP (1.8554897593576, 1.4695098751080513)\n",
      "DLA (1.4625636915923566, 1.3124307958820551)\n",
      "DLC (1.773046173677099, 1.2646479997098925)\n",
      "DLP (1.847935918077964, 1.6727978763802005)\n",
      "DUA (2.3973526286274165, 2.0119237730582067)\n",
      "DUC (2.3302202359408613, 1.1705380675006423)\n",
      "DUP (1.3767146524528229, 0.8644430067442793)\n",
      "LA (1.0304283887164616, 0.9236006755286656)\n",
      "LC (0.9959693352078147, 0.4575831530096169)\n",
      "LP (1.4766954335312392, 0.9467249585967924)\n",
      "UA (2.1978296377031072, 2.216060014182639)\n",
      "UC (1.1167355732320075, 0.4172305364436478)\n",
      "UP (0.8781207278605294, 0.6950948024042717)\n",
      "\n",
      "MODEL ERROR - EXPERT2 ERROR\n",
      "all -0.28815224201188283\n",
      "superficial -0.4022432619666332\n",
      "deep -1.0082882736247853\n",
      "SLA -0.8862455389592483\n",
      "SLC -2.348670330078632\n",
      "SLP 0.3705762606346211\n",
      "SUA 0.29121859790893456\n",
      "SUC -0.4741123326229313\n",
      "SUP -1.1705489945814322\n",
      "DLA -3.360434800415527\n",
      "DLC -2.521512348647221\n",
      "DLP -0.5797289100600125\n",
      "DUA -1.4378022720065644\n",
      "DUC 1.1143824279496928\n",
      "DUP -1.280279845289104\n",
      "LA -2.128102204159207\n",
      "LC -1.0503622215854576\n",
      "LP 0.23916288225109672\n",
      "UA -0.675144290073483\n",
      "UC -0.059132321140947575\n",
      "UP -1.2272838133034172\n"
     ]
    }
   ],
   "source": [
    "source1_regions = list(source1.t2_region_json_path)\n",
    "source2_regions = list(source2.t2_region_json_path)\n",
    "source3_regions = list(source3.t2_region_json_path)\n",
    "\n",
    "correlation_dict, mean_abs_diff_dict_expert1_expert2 = compare_region_means(source1_regions, \n",
    "                                                            source2_regions, \n",
    "                                                            results_path=None,\n",
    "                                                            correlation_method = 'spearman')\n",
    "\n",
    "print(\"EXPERT1 VS EXPERT2\")\n",
    "for k,v in mean_abs_diff_dict_expert1_expert2.items():\n",
    "    print(k, v)\n",
    "\n",
    "correlation_dict, mean_abs_diff_dict_expert1_model = compare_region_means(source1_regions, \n",
    "                                                            source3_regions, \n",
    "                                                            results_path=None,\n",
    "                                                            correlation_method = 'spearman')\n",
    "\n",
    "print()\n",
    "print(\"EXPERT1 VS MODEL\")\n",
    "for k,v in mean_abs_diff_dict_expert1_model.items():\n",
    "    print(k, v)\n",
    "\n",
    "print()\n",
    "print(\"MODEL ERROR - EXPERT2 ERROR\")\n",
    "for k,v in mean_abs_diff_dict_expert1_expert2.items():\n",
    "    print(k, mean_abs_diff_dict_expert1_model[k][0] - v[0])\n"
   ]
  },
  {
   "cell_type": "code",
   "execution_count": 9,
   "metadata": {},
   "outputs": [
    {
     "data": {
      "image/png": "[encoded data removed]",
      "text/plain": [
       "<Figure size 1332x756 with 1 Axes>"
      ]
     },
     "metadata": {
      "needs_background": "light"
     },
     "output_type": "display_data"
    }
   ],
   "source": [
    "\n",
    "    \n",
    "plot_mean_val_comparisons(mean_abs_diff_dict_expert1_expert2, mean_abs_diff_dict_expert1_model, 'Expert2', 'Model')"
   ]
  },
  {
   "cell_type": "markdown",
   "metadata": {},
   "source": [
    "### See how well they agree in terms of the average T2 change over time in each cartilage region of each image"
   ]
  },
  {
   "cell_type": "code",
   "execution_count": null,
   "metadata": {},
   "outputs": [],
   "source": [
    "source1_regions1 = [i for i in source1_regions if i[-6]=='4' and '9120358' not in i]\n",
    "source1_regions2 = [i for i in source1_regions if i[-6]=='8'and '9120358' not in i]\n",
    "source2_regions1 = [i for i in source2_regions if i[-6]=='4'and '9120358' not in i]\n",
    "source2_regions2 = [i for i in source2_regions if i[-6]=='8'and '9120358' not in i]\n",
    "\n",
    "if len(source1_regions1)==len(source1_regions2):\n",
    "    change_correlation_dict, change_mean_abs_diff_dict = compare_region_changes(source1_regions1,\n",
    "                                                                                source1_regions2, \n",
    "                                                                                source2_regions1,\n",
    "                                                                                source2_regions2, \n",
    "                                                                                results_path=None,\n",
    "                                                                                correlation_method = 'spearman')\n",
    "for k,v in change_correlation_dict.items():\n",
    "    print(k, v)\n",
    "print()\n",
    "for k,v in change_mean_abs_diff_dict.items():\n",
    "    print(k, v)\n",
    "\n",
    "    \n",
    "    "
   ]
  },
  {
   "cell_type": "markdown",
   "metadata": {},
   "source": [
    "### See how well they agree in terms of the cartilage lesions that are identified as developing over time"
   ]
  },
  {
   "cell_type": "code",
   "execution_count": null,
   "metadata": {},
   "outputs": [],
   "source": [
    "plt.scatter(percentLesion_expert1, percentLesion_predict)\n",
    "plt.title(\"Correlation:\" + str(spearmanr(percentLesion_expert1, percentLesion_predict)))\n",
    "plt.xlabel(\"Source 1: Fraction of cartilage affected\")\n",
    "plt.ylabel(\"Source 2: Fraction of cartilage affected\")\n",
    "plt.plot([.03,.15],[.03,.15])\n",
    "plt.plot(np.unique(percentLesion_expert1), np.poly1d(np.polyfit(percentLesion_expert1, percentLesion_predict, 1))(np.unique(percentLesion_expert1)))\n",
    "plt.legend(['unity','best fit','data points'])\n",
    "plt.show()\n",
    "\n",
    "\n",
    "bias_raw = np.mean(((np.array(percentLesion_expert1) - np.array(percentLesion_predict))))\n",
    "StD_raw = np.std(np.abs((np.array(percentLesion_expert1) - np.array(percentLesion_predict))))\n",
    "\n",
    "print()    \n",
    "print(\"Raw Error:\", bias_raw, \"+/-\", StD_raw)\n",
    "\n",
    "bias_relative = np.mean(((np.array(percentLesion_expert1) - np.array(percentLesion_predict))/np.array(percentLesion_expert1)))\n",
    "StD_relative = np.std(np.abs((np.array(percentLesion_expert1) - np.array(percentLesion_predict))/np.array(percentLesion_expert1)))\n",
    "    \n",
    "print()    \n",
    "print(\"Relative Error:\", bias_relative, \"+/-\", StD_relative)\n",
    " \n"
   ]
  },
  {
   "cell_type": "code",
   "execution_count": null,
   "metadata": {},
   "outputs": [],
   "source": [
    "np.mean(np.abs((np.array(percentLesion_expert1) - np.array(percentLesion_predict))))\n",
    "\n"
   ]
  },
  {
   "cell_type": "code",
   "execution_count": null,
   "metadata": {},
   "outputs": [],
   "source": []
  },
  {
   "cell_type": "code",
   "execution_count": null,
   "metadata": {},
   "outputs": [],
   "source": [
    "with open('/data/kevin_data/qmetric/t2_projected/9909311_4.npy.pickle', 'rb') as handle:\n",
    "    dict_a = pickle.load(handle)\n",
    "\n",
    "with open('/data/kevin_data/qmetric/t2_projected/9909311_8.npy.pickle', 'rb') as handle:\n",
    "    dict_b = pickle.load(handle)\n",
    "    \n",
    "a = make_projection_proportional(dict_a)\n",
    "b = make_projection_proportional(dict_b)\n",
    "a,b = align_projections(a,b)"
   ]
  },
  {
   "cell_type": "code",
   "execution_count": null,
   "metadata": {},
   "outputs": [],
   "source": [
    "plt.imshow(a)\n",
    "plt.show()"
   ]
  },
  {
   "cell_type": "code",
   "execution_count": null,
   "metadata": {},
   "outputs": [],
   "source": [
    "plt.imshow(b)\n",
    "plt.show()"
   ]
  },
  {
   "cell_type": "code",
   "execution_count": null,
   "metadata": {},
   "outputs": [],
   "source": [
    "num_pix = np.sum(b!=0)\n",
    "where_b = np.where(b)\n",
    "where_a = np.where(a)\n",
    "\n",
    "dmap = np.zeros_like(b)\n",
    "for i in range(num_pix):\n",
    "    t2_b = b[where_b[0][i], where_b[1][i]]\n",
    "    \n",
    "    distances_r = where_a[0] - where_b[0][i]\n",
    "    distances_c = where_a[1] - where_b[1][i]\n",
    "    distances = np.sqrt(distances_r**2 + distances_c**2)\n",
    "    index = np.argmin(distances)\n",
    "    t2_a = a[where_a[0][index], where_a[1][index]]\n",
    "    \n",
    "    change = t2_b - t2_a\n",
    "    dmap[where_b[0][i], where_b[1][i]] = change\n",
    "plt.imshow(dmap)"
   ]
  },
  {
   "cell_type": "code",
   "execution_count": null,
   "metadata": {},
   "outputs": [],
   "source": [
    "from difference_map_utils import eroded_and_mask\n",
    "mask = eroded_and_mask(dmap!=0,dmap!=0)\n",
    "dmap = dmap*mask\n",
    "plt.imshow(dmap)"
   ]
  },
  {
   "cell_type": "code",
   "execution_count": null,
   "metadata": {},
   "outputs": [],
   "source": [
    "a= np.array([10,2,1,5])\n",
    "i = np.argsort(a)\n",
    "a[i]"
   ]
  },
  {
   "cell_type": "code",
   "execution_count": null,
   "metadata": {},
   "outputs": [],
   "source": [
    "a=np.array([[10,1,5,3],[8,9,7,2],[1,2,3,4],[7,6,5,4]])\n",
    "a"
   ]
  },
  {
   "cell_type": "code",
   "execution_count": null,
   "metadata": {},
   "outputs": [],
   "source": [
    "a[[0,0,1],[2,3,3]]"
   ]
  },
  {
   "cell_type": "code",
   "execution_count": null,
   "metadata": {},
   "outputs": [],
   "source": []
  }
 ],
 "metadata": {
  "kernelspec": {
   "display_name": "Python 3",
   "language": "python",
   "name": "python3"
  },
  "language_info": {
   "codemirror_mode": {
    "name": "ipython",
    "version": 3
   },
   "file_extension": ".py",
   "mimetype": "text/x-python",
   "name": "python",
   "nbconvert_exporter": "python",
   "pygments_lexer": "ipython3",
   "version": "3.7.6"
  }
 },
 "nbformat": 4,
 "nbformat_minor": 2
}
